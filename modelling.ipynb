{
  "cells": [
    {
      "cell_type": "code",
      "execution_count": 1,
      "metadata": {
        "id": "3PWvTyo8ZIos"
      },
      "outputs": [],
      "source": [
        "%%capture\n",
        "from google.colab import drive\n",
        "import warnings\n",
        "warnings.filterwarnings(\"ignore\")\n",
        "drive.mount('/content/drive')"
      ],
      "id": "3PWvTyo8ZIos"
    },
    {
      "cell_type": "code",
      "execution_count": 2,
      "metadata": {
        "colab": {
          "base_uri": "https://localhost:8080/"
        },
        "id": "c0ade60b-cf77-4916-a0f1-059e03d5ea35",
        "outputId": "5c5ecfb0-5c55-4600-feea-4f8e669756ca"
      },
      "outputs": [
        {
          "output_type": "stream",
          "name": "stdout",
          "text": [
            "reading /content/drive/MyDrive/bookmaker-model/football/football-odds-2008-2009.csv\n",
            "reading /content/drive/MyDrive/bookmaker-model/football/football-odds-2007-2008.csv\n",
            "reading /content/drive/MyDrive/bookmaker-model/football/football-odds-2009-2010.csv\n",
            "reading /content/drive/MyDrive/bookmaker-model/football/football-odds-2012-2013.csv\n",
            "reading /content/drive/MyDrive/bookmaker-model/football/football-odds-2010-2011.csv\n",
            "reading /content/drive/MyDrive/bookmaker-model/football/football-odds-2011-2012.csv\n",
            "reading /content/drive/MyDrive/bookmaker-model/football/football-odds-2013-2014.csv\n",
            "reading /content/drive/MyDrive/bookmaker-model/football/football-odds-2014-2015.csv\n",
            "reading /content/drive/MyDrive/bookmaker-model/football/football-odds-2015-2016.csv\n",
            "reading /content/drive/MyDrive/bookmaker-model/football/football-odds-2017-2018.csv\n",
            "reading /content/drive/MyDrive/bookmaker-model/football/football-odds-2016-2017.csv\n",
            "reading /content/drive/MyDrive/bookmaker-model/football/football-odds-2019-2020.csv\n",
            "reading /content/drive/MyDrive/bookmaker-model/football/football-odds-2018-2019.csv\n",
            "reading /content/drive/MyDrive/bookmaker-model/football/football-odds-2021-2022.csv\n",
            "reading /content/drive/MyDrive/bookmaker-model/football/football-odds-2020-2021.csv\n",
            "reading /content/drive/MyDrive/bookmaker-model/basketball/basketball-odds-2008-2009.csv\n",
            "reading /content/drive/MyDrive/bookmaker-model/basketball/basketball-odds-2009-2010.csv\n",
            "reading /content/drive/MyDrive/bookmaker-model/basketball/basketball-odds-2010-2011.csv\n",
            "reading /content/drive/MyDrive/bookmaker-model/basketball/basketball-odds-2011-2012.csv\n",
            "reading /content/drive/MyDrive/bookmaker-model/basketball/basketball-odds-2012-2013.csv\n",
            "reading /content/drive/MyDrive/bookmaker-model/basketball/basketball-odds-2013-2014.csv\n",
            "reading /content/drive/MyDrive/bookmaker-model/basketball/basketball-odds-2014-2015.csv\n",
            "reading /content/drive/MyDrive/bookmaker-model/basketball/basketball-odds-2015-2016.csv\n",
            "reading /content/drive/MyDrive/bookmaker-model/basketball/basketball-odds-2016-2017.csv\n",
            "reading /content/drive/MyDrive/bookmaker-model/basketball/basketball-odds-2018-2019.csv\n",
            "reading /content/drive/MyDrive/bookmaker-model/basketball/basketball-odds-2019-2020.csv\n",
            "reading /content/drive/MyDrive/bookmaker-model/basketball/basketball-odds-2020-2021.csv\n",
            "reading /content/drive/MyDrive/bookmaker-model/basketball/basketball-odds-2021-2022.csv\n",
            "reading /content/drive/MyDrive/bookmaker-model/basketball/basketball-odds-2017-2018.csv\n"
          ]
        }
      ],
      "source": [
        "import pandas as pd\n",
        "import os\n",
        "\n",
        "\n",
        "football_files_path = \"/content/drive/MyDrive/bookmaker-model/football/\"\n",
        "basketball_files_path = \"/content/drive/MyDrive/bookmaker-model/basketball/\"\n",
        "\n",
        "football_csv_files = os.listdir(football_files_path)\n",
        "football_csv_files = [football_files_path + e for e in football_csv_files if not e.startswith('.') ]\n",
        "\n",
        "basketball_csv_files = os.listdir(basketball_files_path)\n",
        "basketball_csv_files = [basketball_files_path + e for e in basketball_csv_files if not e.startswith('.') ]\n",
        "\n",
        "def create_df(file_paths):\n",
        "    full_data = pd.DataFrame()\n",
        "    for file in file_paths:\n",
        "        with open(file) as file_in:\n",
        "            print(f\"reading {file}\")\n",
        "            part_df = pd.read_csv(file)\n",
        "            full_data = pd.concat([full_data, part_df], axis=0)\n",
        "\n",
        "    return full_data\n",
        "\n",
        "football_df = create_df(football_csv_files)\n",
        "basketball_df = create_df(basketball_csv_files)"
      ],
      "id": "c0ade60b-cf77-4916-a0f1-059e03d5ea35"
    },
    {
      "cell_type": "code",
      "execution_count": 3,
      "metadata": {
        "colab": {
          "base_uri": "https://localhost:8080/"
        },
        "id": "8bed6bc8-30ff-4731-ac41-f977290762fe",
        "outputId": "ed894337-5e15-4045-fcbe-3cef8fa0f39f"
      },
      "outputs": [
        {
          "output_type": "execute_result",
          "data": {
            "text/plain": [
              "(276960, 7)"
            ]
          },
          "metadata": {},
          "execution_count": 3
        }
      ],
      "source": [
        "football_df.columns = ['match', 'bookmaker', 'home-odds', 'draw-odds', 'away-odds', 'date', 'score']\n",
        "football_df.shape"
      ],
      "id": "8bed6bc8-30ff-4731-ac41-f977290762fe"
    },
    {
      "cell_type": "code",
      "execution_count": 4,
      "metadata": {
        "colab": {
          "base_uri": "https://localhost:8080/"
        },
        "id": "AwGO04aszHX-",
        "outputId": "54bf85c3-557d-4daa-db6c-1e7375f55b33"
      },
      "outputs": [
        {
          "output_type": "execute_result",
          "data": {
            "text/plain": [
              "(589612, 6)"
            ]
          },
          "metadata": {},
          "execution_count": 4
        }
      ],
      "source": [
        "basketball_df.columns = ['match', 'bookmaker', 'home-odds', 'away-odds', 'date', 'score']\n",
        "basketball_df.shape"
      ],
      "id": "AwGO04aszHX-"
    },
    {
      "cell_type": "code",
      "execution_count": 5,
      "metadata": {
        "colab": {
          "base_uri": "https://localhost:8080/",
          "height": 221
        },
        "id": "bf4f1ae6-33bf-4060-aec0-29eb9d472f25",
        "outputId": "dc7ed282-de29-4cde-b295-df2c2bc0f730"
      },
      "outputs": [
        {
          "output_type": "execute_result",
          "data": {
            "text/plain": [
              "                                            match    bookmaker home-odds  \\\n",
              "0  Denver Nuggets\\n97\\n–\\nLos Angeles Lakers\\n103  bet-at-home      -167   \n",
              "1  Denver Nuggets\\n97\\n–\\nLos Angeles Lakers\\n103       bet365      -175   \n",
              "2  Denver Nuggets\\n97\\n–\\nLos Angeles Lakers\\n103         bwin      -154   \n",
              "3  Denver Nuggets\\n97\\n–\\nLos Angeles Lakers\\n103  Interwetten      -182   \n",
              "4  Denver Nuggets\\n97\\n–\\nLos Angeles Lakers\\n103     Pinnacle      -159   \n",
              "\n",
              "  away-odds                        date   score  \n",
              "0       129  Sunday, 24 May 2009, 00:30  97:103  \n",
              "1       145  Sunday, 24 May 2009, 00:30  97:103  \n",
              "2       129  Sunday, 24 May 2009, 00:30  97:103  \n",
              "3       125  Sunday, 24 May 2009, 00:30  97:103  \n",
              "4       152  Sunday, 24 May 2009, 00:30  97:103  "
            ],
            "text/html": [
              "\n",
              "  <div id=\"df-298e0fed-c6a2-4504-bfab-c32b87f90ba5\">\n",
              "    <div class=\"colab-df-container\">\n",
              "      <div>\n",
              "<style scoped>\n",
              "    .dataframe tbody tr th:only-of-type {\n",
              "        vertical-align: middle;\n",
              "    }\n",
              "\n",
              "    .dataframe tbody tr th {\n",
              "        vertical-align: top;\n",
              "    }\n",
              "\n",
              "    .dataframe thead th {\n",
              "        text-align: right;\n",
              "    }\n",
              "</style>\n",
              "<table border=\"1\" class=\"dataframe\">\n",
              "  <thead>\n",
              "    <tr style=\"text-align: right;\">\n",
              "      <th></th>\n",
              "      <th>match</th>\n",
              "      <th>bookmaker</th>\n",
              "      <th>home-odds</th>\n",
              "      <th>away-odds</th>\n",
              "      <th>date</th>\n",
              "      <th>score</th>\n",
              "    </tr>\n",
              "  </thead>\n",
              "  <tbody>\n",
              "    <tr>\n",
              "      <th>0</th>\n",
              "      <td>Denver Nuggets\\n97\\n–\\nLos Angeles Lakers\\n103</td>\n",
              "      <td>bet-at-home</td>\n",
              "      <td>-167</td>\n",
              "      <td>129</td>\n",
              "      <td>Sunday, 24 May 2009, 00:30</td>\n",
              "      <td>97:103</td>\n",
              "    </tr>\n",
              "    <tr>\n",
              "      <th>1</th>\n",
              "      <td>Denver Nuggets\\n97\\n–\\nLos Angeles Lakers\\n103</td>\n",
              "      <td>bet365</td>\n",
              "      <td>-175</td>\n",
              "      <td>145</td>\n",
              "      <td>Sunday, 24 May 2009, 00:30</td>\n",
              "      <td>97:103</td>\n",
              "    </tr>\n",
              "    <tr>\n",
              "      <th>2</th>\n",
              "      <td>Denver Nuggets\\n97\\n–\\nLos Angeles Lakers\\n103</td>\n",
              "      <td>bwin</td>\n",
              "      <td>-154</td>\n",
              "      <td>129</td>\n",
              "      <td>Sunday, 24 May 2009, 00:30</td>\n",
              "      <td>97:103</td>\n",
              "    </tr>\n",
              "    <tr>\n",
              "      <th>3</th>\n",
              "      <td>Denver Nuggets\\n97\\n–\\nLos Angeles Lakers\\n103</td>\n",
              "      <td>Interwetten</td>\n",
              "      <td>-182</td>\n",
              "      <td>125</td>\n",
              "      <td>Sunday, 24 May 2009, 00:30</td>\n",
              "      <td>97:103</td>\n",
              "    </tr>\n",
              "    <tr>\n",
              "      <th>4</th>\n",
              "      <td>Denver Nuggets\\n97\\n–\\nLos Angeles Lakers\\n103</td>\n",
              "      <td>Pinnacle</td>\n",
              "      <td>-159</td>\n",
              "      <td>152</td>\n",
              "      <td>Sunday, 24 May 2009, 00:30</td>\n",
              "      <td>97:103</td>\n",
              "    </tr>\n",
              "  </tbody>\n",
              "</table>\n",
              "</div>\n",
              "      <button class=\"colab-df-convert\" onclick=\"convertToInteractive('df-298e0fed-c6a2-4504-bfab-c32b87f90ba5')\"\n",
              "              title=\"Convert this dataframe to an interactive table.\"\n",
              "              style=\"display:none;\">\n",
              "        \n",
              "  <svg xmlns=\"http://www.w3.org/2000/svg\" height=\"24px\"viewBox=\"0 0 24 24\"\n",
              "       width=\"24px\">\n",
              "    <path d=\"M0 0h24v24H0V0z\" fill=\"none\"/>\n",
              "    <path d=\"M18.56 5.44l.94 2.06.94-2.06 2.06-.94-2.06-.94-.94-2.06-.94 2.06-2.06.94zm-11 1L8.5 8.5l.94-2.06 2.06-.94-2.06-.94L8.5 2.5l-.94 2.06-2.06.94zm10 10l.94 2.06.94-2.06 2.06-.94-2.06-.94-.94-2.06-.94 2.06-2.06.94z\"/><path d=\"M17.41 7.96l-1.37-1.37c-.4-.4-.92-.59-1.43-.59-.52 0-1.04.2-1.43.59L10.3 9.45l-7.72 7.72c-.78.78-.78 2.05 0 2.83L4 21.41c.39.39.9.59 1.41.59.51 0 1.02-.2 1.41-.59l7.78-7.78 2.81-2.81c.8-.78.8-2.07 0-2.86zM5.41 20L4 18.59l7.72-7.72 1.47 1.35L5.41 20z\"/>\n",
              "  </svg>\n",
              "      </button>\n",
              "      \n",
              "  <style>\n",
              "    .colab-df-container {\n",
              "      display:flex;\n",
              "      flex-wrap:wrap;\n",
              "      gap: 12px;\n",
              "    }\n",
              "\n",
              "    .colab-df-convert {\n",
              "      background-color: #E8F0FE;\n",
              "      border: none;\n",
              "      border-radius: 50%;\n",
              "      cursor: pointer;\n",
              "      display: none;\n",
              "      fill: #1967D2;\n",
              "      height: 32px;\n",
              "      padding: 0 0 0 0;\n",
              "      width: 32px;\n",
              "    }\n",
              "\n",
              "    .colab-df-convert:hover {\n",
              "      background-color: #E2EBFA;\n",
              "      box-shadow: 0px 1px 2px rgba(60, 64, 67, 0.3), 0px 1px 3px 1px rgba(60, 64, 67, 0.15);\n",
              "      fill: #174EA6;\n",
              "    }\n",
              "\n",
              "    [theme=dark] .colab-df-convert {\n",
              "      background-color: #3B4455;\n",
              "      fill: #D2E3FC;\n",
              "    }\n",
              "\n",
              "    [theme=dark] .colab-df-convert:hover {\n",
              "      background-color: #434B5C;\n",
              "      box-shadow: 0px 1px 3px 1px rgba(0, 0, 0, 0.15);\n",
              "      filter: drop-shadow(0px 1px 2px rgba(0, 0, 0, 0.3));\n",
              "      fill: #FFFFFF;\n",
              "    }\n",
              "  </style>\n",
              "\n",
              "      <script>\n",
              "        const buttonEl =\n",
              "          document.querySelector('#df-298e0fed-c6a2-4504-bfab-c32b87f90ba5 button.colab-df-convert');\n",
              "        buttonEl.style.display =\n",
              "          google.colab.kernel.accessAllowed ? 'block' : 'none';\n",
              "\n",
              "        async function convertToInteractive(key) {\n",
              "          const element = document.querySelector('#df-298e0fed-c6a2-4504-bfab-c32b87f90ba5');\n",
              "          const dataTable =\n",
              "            await google.colab.kernel.invokeFunction('convertToInteractive',\n",
              "                                                     [key], {});\n",
              "          if (!dataTable) return;\n",
              "\n",
              "          const docLinkHtml = 'Like what you see? Visit the ' +\n",
              "            '<a target=\"_blank\" href=https://colab.research.google.com/notebooks/data_table.ipynb>data table notebook</a>'\n",
              "            + ' to learn more about interactive tables.';\n",
              "          element.innerHTML = '';\n",
              "          dataTable['output_type'] = 'display_data';\n",
              "          await google.colab.output.renderOutput(dataTable, element);\n",
              "          const docLink = document.createElement('div');\n",
              "          docLink.innerHTML = docLinkHtml;\n",
              "          element.appendChild(docLink);\n",
              "        }\n",
              "      </script>\n",
              "    </div>\n",
              "  </div>\n",
              "  "
            ]
          },
          "metadata": {},
          "execution_count": 5
        }
      ],
      "source": [
        "basketball_df.head()"
      ],
      "id": "bf4f1ae6-33bf-4060-aec0-29eb9d472f25"
    },
    {
      "cell_type": "code",
      "execution_count": 6,
      "metadata": {
        "colab": {
          "base_uri": "https://localhost:8080/",
          "height": 221
        },
        "id": "FPnyr2vCdOGT",
        "outputId": "ceea91ca-8c75-4d9d-d4ea-c12f6b143805"
      },
      "outputs": [
        {
          "output_type": "execute_result",
          "data": {
            "text/plain": [
              "                            match    bookmaker home-odds  draw-odds  \\\n",
              "0  Wigan\\n1\\n–\\nManchester Utd\\n2  bet-at-home      1000        420   \n",
              "1  Wigan\\n1\\n–\\nManchester Utd\\n2       bet365      1200        400   \n",
              "2  Wigan\\n1\\n–\\nManchester Utd\\n2         bwin       900        400   \n",
              "3  Wigan\\n1\\n–\\nManchester Utd\\n2     Pinnacle      1230        434   \n",
              "4  Wigan\\n1\\n–\\nManchester Utd\\n2       Unibet       900        384   \n",
              "\n",
              "   away-odds                           date score  \n",
              "0       -400  Wednesday, 13 May 2009, 19:00   1:2  \n",
              "1       -345  Wednesday, 13 May 2009, 19:00   1:2  \n",
              "2       -400  Wednesday, 13 May 2009, 19:00   1:2  \n",
              "3       -333  Wednesday, 13 May 2009, 19:00   1:2  \n",
              "4       -303  Wednesday, 13 May 2009, 19:00   1:2  "
            ],
            "text/html": [
              "\n",
              "  <div id=\"df-6c46fe1a-efcf-4ddc-b375-57357a96c7e6\">\n",
              "    <div class=\"colab-df-container\">\n",
              "      <div>\n",
              "<style scoped>\n",
              "    .dataframe tbody tr th:only-of-type {\n",
              "        vertical-align: middle;\n",
              "    }\n",
              "\n",
              "    .dataframe tbody tr th {\n",
              "        vertical-align: top;\n",
              "    }\n",
              "\n",
              "    .dataframe thead th {\n",
              "        text-align: right;\n",
              "    }\n",
              "</style>\n",
              "<table border=\"1\" class=\"dataframe\">\n",
              "  <thead>\n",
              "    <tr style=\"text-align: right;\">\n",
              "      <th></th>\n",
              "      <th>match</th>\n",
              "      <th>bookmaker</th>\n",
              "      <th>home-odds</th>\n",
              "      <th>draw-odds</th>\n",
              "      <th>away-odds</th>\n",
              "      <th>date</th>\n",
              "      <th>score</th>\n",
              "    </tr>\n",
              "  </thead>\n",
              "  <tbody>\n",
              "    <tr>\n",
              "      <th>0</th>\n",
              "      <td>Wigan\\n1\\n–\\nManchester Utd\\n2</td>\n",
              "      <td>bet-at-home</td>\n",
              "      <td>1000</td>\n",
              "      <td>420</td>\n",
              "      <td>-400</td>\n",
              "      <td>Wednesday, 13 May 2009, 19:00</td>\n",
              "      <td>1:2</td>\n",
              "    </tr>\n",
              "    <tr>\n",
              "      <th>1</th>\n",
              "      <td>Wigan\\n1\\n–\\nManchester Utd\\n2</td>\n",
              "      <td>bet365</td>\n",
              "      <td>1200</td>\n",
              "      <td>400</td>\n",
              "      <td>-345</td>\n",
              "      <td>Wednesday, 13 May 2009, 19:00</td>\n",
              "      <td>1:2</td>\n",
              "    </tr>\n",
              "    <tr>\n",
              "      <th>2</th>\n",
              "      <td>Wigan\\n1\\n–\\nManchester Utd\\n2</td>\n",
              "      <td>bwin</td>\n",
              "      <td>900</td>\n",
              "      <td>400</td>\n",
              "      <td>-400</td>\n",
              "      <td>Wednesday, 13 May 2009, 19:00</td>\n",
              "      <td>1:2</td>\n",
              "    </tr>\n",
              "    <tr>\n",
              "      <th>3</th>\n",
              "      <td>Wigan\\n1\\n–\\nManchester Utd\\n2</td>\n",
              "      <td>Pinnacle</td>\n",
              "      <td>1230</td>\n",
              "      <td>434</td>\n",
              "      <td>-333</td>\n",
              "      <td>Wednesday, 13 May 2009, 19:00</td>\n",
              "      <td>1:2</td>\n",
              "    </tr>\n",
              "    <tr>\n",
              "      <th>4</th>\n",
              "      <td>Wigan\\n1\\n–\\nManchester Utd\\n2</td>\n",
              "      <td>Unibet</td>\n",
              "      <td>900</td>\n",
              "      <td>384</td>\n",
              "      <td>-303</td>\n",
              "      <td>Wednesday, 13 May 2009, 19:00</td>\n",
              "      <td>1:2</td>\n",
              "    </tr>\n",
              "  </tbody>\n",
              "</table>\n",
              "</div>\n",
              "      <button class=\"colab-df-convert\" onclick=\"convertToInteractive('df-6c46fe1a-efcf-4ddc-b375-57357a96c7e6')\"\n",
              "              title=\"Convert this dataframe to an interactive table.\"\n",
              "              style=\"display:none;\">\n",
              "        \n",
              "  <svg xmlns=\"http://www.w3.org/2000/svg\" height=\"24px\"viewBox=\"0 0 24 24\"\n",
              "       width=\"24px\">\n",
              "    <path d=\"M0 0h24v24H0V0z\" fill=\"none\"/>\n",
              "    <path d=\"M18.56 5.44l.94 2.06.94-2.06 2.06-.94-2.06-.94-.94-2.06-.94 2.06-2.06.94zm-11 1L8.5 8.5l.94-2.06 2.06-.94-2.06-.94L8.5 2.5l-.94 2.06-2.06.94zm10 10l.94 2.06.94-2.06 2.06-.94-2.06-.94-.94-2.06-.94 2.06-2.06.94z\"/><path d=\"M17.41 7.96l-1.37-1.37c-.4-.4-.92-.59-1.43-.59-.52 0-1.04.2-1.43.59L10.3 9.45l-7.72 7.72c-.78.78-.78 2.05 0 2.83L4 21.41c.39.39.9.59 1.41.59.51 0 1.02-.2 1.41-.59l7.78-7.78 2.81-2.81c.8-.78.8-2.07 0-2.86zM5.41 20L4 18.59l7.72-7.72 1.47 1.35L5.41 20z\"/>\n",
              "  </svg>\n",
              "      </button>\n",
              "      \n",
              "  <style>\n",
              "    .colab-df-container {\n",
              "      display:flex;\n",
              "      flex-wrap:wrap;\n",
              "      gap: 12px;\n",
              "    }\n",
              "\n",
              "    .colab-df-convert {\n",
              "      background-color: #E8F0FE;\n",
              "      border: none;\n",
              "      border-radius: 50%;\n",
              "      cursor: pointer;\n",
              "      display: none;\n",
              "      fill: #1967D2;\n",
              "      height: 32px;\n",
              "      padding: 0 0 0 0;\n",
              "      width: 32px;\n",
              "    }\n",
              "\n",
              "    .colab-df-convert:hover {\n",
              "      background-color: #E2EBFA;\n",
              "      box-shadow: 0px 1px 2px rgba(60, 64, 67, 0.3), 0px 1px 3px 1px rgba(60, 64, 67, 0.15);\n",
              "      fill: #174EA6;\n",
              "    }\n",
              "\n",
              "    [theme=dark] .colab-df-convert {\n",
              "      background-color: #3B4455;\n",
              "      fill: #D2E3FC;\n",
              "    }\n",
              "\n",
              "    [theme=dark] .colab-df-convert:hover {\n",
              "      background-color: #434B5C;\n",
              "      box-shadow: 0px 1px 3px 1px rgba(0, 0, 0, 0.15);\n",
              "      filter: drop-shadow(0px 1px 2px rgba(0, 0, 0, 0.3));\n",
              "      fill: #FFFFFF;\n",
              "    }\n",
              "  </style>\n",
              "\n",
              "      <script>\n",
              "        const buttonEl =\n",
              "          document.querySelector('#df-6c46fe1a-efcf-4ddc-b375-57357a96c7e6 button.colab-df-convert');\n",
              "        buttonEl.style.display =\n",
              "          google.colab.kernel.accessAllowed ? 'block' : 'none';\n",
              "\n",
              "        async function convertToInteractive(key) {\n",
              "          const element = document.querySelector('#df-6c46fe1a-efcf-4ddc-b375-57357a96c7e6');\n",
              "          const dataTable =\n",
              "            await google.colab.kernel.invokeFunction('convertToInteractive',\n",
              "                                                     [key], {});\n",
              "          if (!dataTable) return;\n",
              "\n",
              "          const docLinkHtml = 'Like what you see? Visit the ' +\n",
              "            '<a target=\"_blank\" href=https://colab.research.google.com/notebooks/data_table.ipynb>data table notebook</a>'\n",
              "            + ' to learn more about interactive tables.';\n",
              "          element.innerHTML = '';\n",
              "          dataTable['output_type'] = 'display_data';\n",
              "          await google.colab.output.renderOutput(dataTable, element);\n",
              "          const docLink = document.createElement('div');\n",
              "          docLink.innerHTML = docLinkHtml;\n",
              "          element.appendChild(docLink);\n",
              "        }\n",
              "      </script>\n",
              "    </div>\n",
              "  </div>\n",
              "  "
            ]
          },
          "metadata": {},
          "execution_count": 6
        }
      ],
      "source": [
        "football_df.head()"
      ],
      "id": "FPnyr2vCdOGT"
    },
    {
      "cell_type": "markdown",
      "metadata": {
        "id": "fd83e25c-2315-4142-8d41-8257fa8215e0"
      },
      "source": [
        "## Unique bookmakers"
      ],
      "id": "fd83e25c-2315-4142-8d41-8257fa8215e0"
    },
    {
      "cell_type": "code",
      "execution_count": 7,
      "metadata": {
        "colab": {
          "base_uri": "https://localhost:8080/"
        },
        "id": "d4fd70e8-e84b-41b4-9cbb-d7e64b016e5a",
        "outputId": "f5535e71-56c6-4ef4-ffd8-6696a91f87a0"
      },
      "outputs": [
        {
          "output_type": "execute_result",
          "data": {
            "text/plain": [
              "array(['bet-at-home', 'bet365', 'bwin', 'Pinnacle', 'Unibet',\n",
              "       'Interwetten', 'William Hill', 'Marathonbet', '1xBet', 'Marsbet',\n",
              "       'GGBET', '10x10bet', 'Curebet', 'Lasbet', 'VOBET'], dtype=object)"
            ]
          },
          "metadata": {},
          "execution_count": 7
        }
      ],
      "source": [
        "football_df['bookmaker'].unique()"
      ],
      "id": "d4fd70e8-e84b-41b4-9cbb-d7e64b016e5a"
    },
    {
      "cell_type": "code",
      "execution_count": 8,
      "metadata": {
        "colab": {
          "base_uri": "https://localhost:8080/"
        },
        "id": "boGTR7_l5Sum",
        "outputId": "11197fb3-de43-45a7-bb0f-f104073b7f16"
      },
      "outputs": [
        {
          "output_type": "execute_result",
          "data": {
            "text/plain": [
              "array(['bet-at-home', 'bet365', 'bwin', 'Interwetten', 'Pinnacle',\n",
              "       'Unibet', 'William Hill', 'Marathonbet', '1xBet', 'Marsbet',\n",
              "       'GGBET', '10x10bet', 'Curebet', 'Lasbet', 'VOBET'], dtype=object)"
            ]
          },
          "metadata": {},
          "execution_count": 8
        }
      ],
      "source": [
        "basketball_df['bookmaker'].unique()"
      ],
      "id": "boGTR7_l5Sum"
    },
    {
      "cell_type": "markdown",
      "metadata": {
        "id": "79e115ed-5390-4184-8839-9385cc039d0a"
      },
      "source": [
        "# Preprocess\n",
        "\n",
        "1. create a column describing the match result: home, draw, or away win\n",
        "2. convert the odds to probability"
      ],
      "id": "79e115ed-5390-4184-8839-9385cc039d0a"
    },
    {
      "cell_type": "markdown",
      "metadata": {
        "id": "74ceb5d8-46ef-483c-9a9e-5138d17fade6"
      },
      "source": [
        "## Clean data\n",
        "\n",
        "there is columns that does not retrieve data.\n",
        "Thankfully, it's only few dozens"
      ],
      "id": "74ceb5d8-46ef-483c-9a9e-5138d17fade6"
    },
    {
      "cell_type": "code",
      "execution_count": 9,
      "metadata": {
        "id": "ba12a450-ba9a-49b0-b65f-ad2775c75532"
      },
      "outputs": [],
      "source": [
        "def data_cleaninig(df: pd.DataFrame) -> pd.DataFrame:\n",
        "  df = df.drop(df[df['home-odds'] == '-'].index)\n",
        "  df = df.drop(df[df['away-odds'] == '-'].index)\n",
        "  return df\n",
        "\n",
        "football_df = data_cleaninig(football_df)\n",
        "basketball_df = data_cleaninig(basketball_df)"
      ],
      "id": "ba12a450-ba9a-49b0-b65f-ad2775c75532"
    },
    {
      "cell_type": "markdown",
      "metadata": {
        "id": "hDP9f2_k999u"
      },
      "source": [
        "## Create home, away team column"
      ],
      "id": "hDP9f2_k999u"
    },
    {
      "cell_type": "code",
      "execution_count": 10,
      "metadata": {
        "id": "x1_XI8ZI-C--"
      },
      "outputs": [],
      "source": [
        "def parse_home_away_team(match_between):\n",
        "  \"\"\"\n",
        "  Ex: 'Manchester Utd\\n0\\n–\\nLiverpool\\n3'\n",
        "  to filter out the score, use isnumeric()\n",
        "  \"\"\"\n",
        "\n",
        "  parts = match_between.split('\\n')\n",
        "  parts = [each for each in parts if not each.isnumeric()]\n",
        "\n",
        "  # sample output list: ['Manchester Utd', '–', 'Liverpool']\n",
        "  return parts[0], parts[-1]\n",
        "\n",
        "\n",
        "football_df['home'], football_df['away'] = zip(*football_df['match'].map(parse_home_away_team))\n",
        "football_df.drop('match', axis=1, inplace=True)\n",
        "\n",
        "basketball_df['home'], basketball_df['away'] = zip(*basketball_df['match'].map(parse_home_away_team))\n",
        "basketball_df.drop('match', axis=1, inplace=True)"
      ],
      "id": "x1_XI8ZI-C--"
    },
    {
      "cell_type": "markdown",
      "metadata": {
        "id": "75f56fdc-2de4-4bd6-95e1-37b7d08f08ce"
      },
      "source": [
        "## Create column *match-result*"
      ],
      "id": "75f56fdc-2de4-4bd6-95e1-37b7d08f08ce"
    },
    {
      "cell_type": "code",
      "execution_count": 11,
      "metadata": {
        "id": "2693719d-9027-4eef-af17-43155eb23d57"
      },
      "outputs": [],
      "source": [
        "def create_match_result_football(score)-> str:\n",
        "  \"\"\"\n",
        "  football match, results are in format '3:2'\n",
        "  \"\"\"\n",
        "  parts = score.split(':')\n",
        "  home = int(parts[0])\n",
        "  away = int(parts[1])\n",
        "  if home > away:\n",
        "      'home'\n",
        "      return 0\n",
        "  elif home == away:\n",
        "      'draw'\n",
        "      return 1\n",
        "  else:\n",
        "      'away'\n",
        "      return 2\n",
        "\n",
        "\n",
        "def create_match_result_basketball(score)-> str:\n",
        "    \"\"\"\n",
        "    In basketball match, the game results might be in format '108:105 OT (99:99)' or '98:100'\n",
        "    \"\"\"\n",
        "    if 'OT' in score:\n",
        "      parts = score.split('OT') # ['108:105 ', ' (99:99)']\n",
        "      score = parts[0].strip()  # '108:105'\n",
        "      parts = score.split(':')\n",
        "      home = int(parts[0])\n",
        "      away = int(parts[1])\n",
        "    else:\n",
        "      parts = score.split(':')\n",
        "      home = int(parts[0])\n",
        "      away = int(parts[1])\n",
        "\n",
        "\n",
        "    if home > away:\n",
        "      'home'\n",
        "      return 0\n",
        "    else:\n",
        "      'away'\n",
        "      return 1\n",
        "\n",
        "    raise RuntimeError(f\"When creating the match result, errors occur: sport{sport}, score {score}\")\n",
        "\n",
        "\n",
        "football_df['match-result'] = football_df['score'].apply(create_match_result_football)\n",
        "basketball_df['match-result'] = basketball_df['score'].apply(create_match_result_basketball)"
      ],
      "id": "2693719d-9027-4eef-af17-43155eb23d57"
    },
    {
      "cell_type": "markdown",
      "metadata": {
        "id": "G3PKHVp6jsQw"
      },
      "source": [
        "### add datetime"
      ],
      "id": "G3PKHVp6jsQw"
    },
    {
      "cell_type": "code",
      "execution_count": 12,
      "metadata": {
        "id": "vL5r0P6e6TB5"
      },
      "outputs": [],
      "source": [
        "football_df['date'] = pd.to_datetime(football_df['date'])\n",
        "basketball_df['date'] = pd.to_datetime(basketball_df['date'])"
      ],
      "id": "vL5r0P6e6TB5"
    },
    {
      "cell_type": "markdown",
      "source": [
        "Save as sqlite cuz the add elo process takes a lot of time if running by pandas"
      ],
      "metadata": {
        "id": "NeWHZ_QNDvos"
      },
      "id": "NeWHZ_QNDvos"
    },
    {
      "cell_type": "code",
      "source": [
        "# import sqlite3\n",
        "# conn = sqlite3.connect('/content/drive/MyDrive/bookmaker-model/merge.sqlite')\n",
        "# football_df.to_sql(\"football\", conn, if_exists=\"replace\", index=False)\n",
        "# conn.close()"
      ],
      "metadata": {
        "id": "5q347NzXDzyb"
      },
      "id": "5q347NzXDzyb",
      "execution_count": 13,
      "outputs": []
    },
    {
      "cell_type": "markdown",
      "metadata": {
        "id": "RNtYwlwbHwwY"
      },
      "source": [
        "## Add elo ranking\n",
        "\n",
        "1. parse datetime object\n",
        "2. use datetime to find the elo rating"
      ],
      "id": "RNtYwlwbHwwY"
    },
    {
      "cell_type": "markdown",
      "metadata": {
        "id": "NK8tvSJJktT5"
      },
      "source": [
        "### read from sqlite database"
      ],
      "id": "NK8tvSJJktT5"
    },
    {
      "cell_type": "code",
      "execution_count": 14,
      "metadata": {
        "id": "N0QErVk8kzXO"
      },
      "outputs": [],
      "source": [
        "def sanitize_team_name(name):\n",
        "    team_name = name\n",
        "    ###\n",
        "    ### process the name\n",
        "    sanitized = team_name.lower()\n",
        "    # exception team name\n",
        "\n",
        "    team_club_abbr_dict = {\n",
        "        'manchester utd': 'man united',\n",
        "        'manchester city': 'man city',\n",
        "        'sheffield utd': 'sheffield united',\n",
        "        }\n",
        "    if sanitized in team_club_abbr_dict.keys():\n",
        "\n",
        "\n",
        "        sanitized =  team_club_abbr_dict[sanitized]\n",
        "\n",
        "    return str(sanitized)\n",
        "\n",
        "def exec_query(query):\n",
        "    import sqlite3\n",
        "    conn = sqlite3.connect('/content/drive/MyDrive/bookmaker-model/merge.sqlite')\n",
        "    df = pd.read_sql(query, conn)\n",
        "    conn.close()\n",
        "    return df"
      ],
      "id": "N0QErVk8kzXO"
    },
    {
      "cell_type": "code",
      "execution_count": 15,
      "metadata": {
        "id": "XRr7TzVSIqLn",
        "colab": {
          "base_uri": "https://localhost:8080/"
        },
        "outputId": "7d534dfa-fbac-4418-d7ec-39bc4798430c"
      },
      "outputs": [
        {
          "output_type": "execute_result",
          "data": {
            "text/plain": [
              "(276937, 9)"
            ]
          },
          "metadata": {},
          "execution_count": 15
        }
      ],
      "source": [
        "def get_elo():\n",
        "    query = \"\"\"\n",
        "    SELECT\n",
        "      game.bookmaker,\n",
        "      game.`home-odds`,\n",
        "      game.`draw-odds`,\n",
        "      game.`away-odds`,\n",
        "      game.`match-result`,\n",
        "      game.date as match_date,\n",
        "      game.home_alias as home_alias,\n",
        "      game.away_alias as away_alias,\n",
        "      homeElo.Elo as home_elo,\n",
        "      awayElo.Elo as away_elo\n",
        "    FROM football as game\n",
        "    INNER JOIN `elo.sqlite` as homeElo\n",
        "    ON game.home_alias = homeElo.club\n",
        "    INNER JOIN `elo.sqlite` as awayElo\n",
        "    ON game.away_alias = awayElo.club\n",
        "    WHERE game.date BETWEEN homeElo.from_date AND homeElo.to_date\n",
        "    AND game.date BETWEEN awayElo.from_date AND awayElo.to_date;\n",
        "    \"\"\"\n",
        "    df = exec_query(query)\n",
        "    return df\n",
        "\n",
        "# football_df['date'] = football_df['date'].dt.strftime('%Y-%m-%d')\n",
        "# football_df['home-elo'] = football_df.apply(get_elo, play_at='home', axis=1)\n",
        "# football_df['away-elo'] = football_df.apply(get_elo, play_at='away', axis=1)\n",
        "football_df.shape"
      ],
      "id": "XRr7TzVSIqLn"
    },
    {
      "cell_type": "code",
      "execution_count": 16,
      "metadata": {
        "id": "NFPnzmxXNHDM",
        "colab": {
          "base_uri": "https://localhost:8080/"
        },
        "outputId": "35745427-f192-40ab-d9c3-d4b95af8f77a"
      },
      "outputs": [
        {
          "output_type": "stream",
          "name": "stdout",
          "text": [
            "CPU times: user 8min 31s, sys: 42.6 s, total: 9min 13s\n",
            "Wall time: 9min 36s\n"
          ]
        }
      ],
      "source": [
        "%%time\n",
        "full = get_elo()"
      ],
      "id": "NFPnzmxXNHDM"
    },
    {
      "cell_type": "code",
      "source": [
        "print(full.shape)\n",
        "full.head()"
      ],
      "metadata": {
        "colab": {
          "base_uri": "https://localhost:8080/",
          "height": 241
        },
        "id": "JT7xfX02C7yB",
        "outputId": "80f4fcab-872a-4c95-a701-3d98c1433d68"
      },
      "id": "JT7xfX02C7yB",
      "execution_count": 17,
      "outputs": [
        {
          "output_type": "stream",
          "name": "stdout",
          "text": [
            "(276937, 10)\n"
          ]
        },
        {
          "output_type": "execute_result",
          "data": {
            "text/plain": [
              "     bookmaker home-odds  draw-odds  away-odds  match-result  match_date  \\\n",
              "0  bet-at-home      1000        420       -400             2  2009-05-13   \n",
              "1       bet365      1200        400       -345             2  2009-05-13   \n",
              "2         bwin       900        400       -400             2  2009-05-13   \n",
              "3     Pinnacle      1230        434       -333             2  2009-05-13   \n",
              "4       Unibet       900        384       -303             2  2009-05-13   \n",
              "\n",
              "  home_alias  away_alias     home_elo     away_elo  \n",
              "0      wigan  man united  1669.657715  2014.099243  \n",
              "1      wigan  man united  1669.657715  2014.099243  \n",
              "2      wigan  man united  1669.657715  2014.099243  \n",
              "3      wigan  man united  1669.657715  2014.099243  \n",
              "4      wigan  man united  1669.657715  2014.099243  "
            ],
            "text/html": [
              "\n",
              "  <div id=\"df-b64e938b-850a-45ec-9b78-26a4dbb342e8\">\n",
              "    <div class=\"colab-df-container\">\n",
              "      <div>\n",
              "<style scoped>\n",
              "    .dataframe tbody tr th:only-of-type {\n",
              "        vertical-align: middle;\n",
              "    }\n",
              "\n",
              "    .dataframe tbody tr th {\n",
              "        vertical-align: top;\n",
              "    }\n",
              "\n",
              "    .dataframe thead th {\n",
              "        text-align: right;\n",
              "    }\n",
              "</style>\n",
              "<table border=\"1\" class=\"dataframe\">\n",
              "  <thead>\n",
              "    <tr style=\"text-align: right;\">\n",
              "      <th></th>\n",
              "      <th>bookmaker</th>\n",
              "      <th>home-odds</th>\n",
              "      <th>draw-odds</th>\n",
              "      <th>away-odds</th>\n",
              "      <th>match-result</th>\n",
              "      <th>match_date</th>\n",
              "      <th>home_alias</th>\n",
              "      <th>away_alias</th>\n",
              "      <th>home_elo</th>\n",
              "      <th>away_elo</th>\n",
              "    </tr>\n",
              "  </thead>\n",
              "  <tbody>\n",
              "    <tr>\n",
              "      <th>0</th>\n",
              "      <td>bet-at-home</td>\n",
              "      <td>1000</td>\n",
              "      <td>420</td>\n",
              "      <td>-400</td>\n",
              "      <td>2</td>\n",
              "      <td>2009-05-13</td>\n",
              "      <td>wigan</td>\n",
              "      <td>man united</td>\n",
              "      <td>1669.657715</td>\n",
              "      <td>2014.099243</td>\n",
              "    </tr>\n",
              "    <tr>\n",
              "      <th>1</th>\n",
              "      <td>bet365</td>\n",
              "      <td>1200</td>\n",
              "      <td>400</td>\n",
              "      <td>-345</td>\n",
              "      <td>2</td>\n",
              "      <td>2009-05-13</td>\n",
              "      <td>wigan</td>\n",
              "      <td>man united</td>\n",
              "      <td>1669.657715</td>\n",
              "      <td>2014.099243</td>\n",
              "    </tr>\n",
              "    <tr>\n",
              "      <th>2</th>\n",
              "      <td>bwin</td>\n",
              "      <td>900</td>\n",
              "      <td>400</td>\n",
              "      <td>-400</td>\n",
              "      <td>2</td>\n",
              "      <td>2009-05-13</td>\n",
              "      <td>wigan</td>\n",
              "      <td>man united</td>\n",
              "      <td>1669.657715</td>\n",
              "      <td>2014.099243</td>\n",
              "    </tr>\n",
              "    <tr>\n",
              "      <th>3</th>\n",
              "      <td>Pinnacle</td>\n",
              "      <td>1230</td>\n",
              "      <td>434</td>\n",
              "      <td>-333</td>\n",
              "      <td>2</td>\n",
              "      <td>2009-05-13</td>\n",
              "      <td>wigan</td>\n",
              "      <td>man united</td>\n",
              "      <td>1669.657715</td>\n",
              "      <td>2014.099243</td>\n",
              "    </tr>\n",
              "    <tr>\n",
              "      <th>4</th>\n",
              "      <td>Unibet</td>\n",
              "      <td>900</td>\n",
              "      <td>384</td>\n",
              "      <td>-303</td>\n",
              "      <td>2</td>\n",
              "      <td>2009-05-13</td>\n",
              "      <td>wigan</td>\n",
              "      <td>man united</td>\n",
              "      <td>1669.657715</td>\n",
              "      <td>2014.099243</td>\n",
              "    </tr>\n",
              "  </tbody>\n",
              "</table>\n",
              "</div>\n",
              "      <button class=\"colab-df-convert\" onclick=\"convertToInteractive('df-b64e938b-850a-45ec-9b78-26a4dbb342e8')\"\n",
              "              title=\"Convert this dataframe to an interactive table.\"\n",
              "              style=\"display:none;\">\n",
              "        \n",
              "  <svg xmlns=\"http://www.w3.org/2000/svg\" height=\"24px\"viewBox=\"0 0 24 24\"\n",
              "       width=\"24px\">\n",
              "    <path d=\"M0 0h24v24H0V0z\" fill=\"none\"/>\n",
              "    <path d=\"M18.56 5.44l.94 2.06.94-2.06 2.06-.94-2.06-.94-.94-2.06-.94 2.06-2.06.94zm-11 1L8.5 8.5l.94-2.06 2.06-.94-2.06-.94L8.5 2.5l-.94 2.06-2.06.94zm10 10l.94 2.06.94-2.06 2.06-.94-2.06-.94-.94-2.06-.94 2.06-2.06.94z\"/><path d=\"M17.41 7.96l-1.37-1.37c-.4-.4-.92-.59-1.43-.59-.52 0-1.04.2-1.43.59L10.3 9.45l-7.72 7.72c-.78.78-.78 2.05 0 2.83L4 21.41c.39.39.9.59 1.41.59.51 0 1.02-.2 1.41-.59l7.78-7.78 2.81-2.81c.8-.78.8-2.07 0-2.86zM5.41 20L4 18.59l7.72-7.72 1.47 1.35L5.41 20z\"/>\n",
              "  </svg>\n",
              "      </button>\n",
              "      \n",
              "  <style>\n",
              "    .colab-df-container {\n",
              "      display:flex;\n",
              "      flex-wrap:wrap;\n",
              "      gap: 12px;\n",
              "    }\n",
              "\n",
              "    .colab-df-convert {\n",
              "      background-color: #E8F0FE;\n",
              "      border: none;\n",
              "      border-radius: 50%;\n",
              "      cursor: pointer;\n",
              "      display: none;\n",
              "      fill: #1967D2;\n",
              "      height: 32px;\n",
              "      padding: 0 0 0 0;\n",
              "      width: 32px;\n",
              "    }\n",
              "\n",
              "    .colab-df-convert:hover {\n",
              "      background-color: #E2EBFA;\n",
              "      box-shadow: 0px 1px 2px rgba(60, 64, 67, 0.3), 0px 1px 3px 1px rgba(60, 64, 67, 0.15);\n",
              "      fill: #174EA6;\n",
              "    }\n",
              "\n",
              "    [theme=dark] .colab-df-convert {\n",
              "      background-color: #3B4455;\n",
              "      fill: #D2E3FC;\n",
              "    }\n",
              "\n",
              "    [theme=dark] .colab-df-convert:hover {\n",
              "      background-color: #434B5C;\n",
              "      box-shadow: 0px 1px 3px 1px rgba(0, 0, 0, 0.15);\n",
              "      filter: drop-shadow(0px 1px 2px rgba(0, 0, 0, 0.3));\n",
              "      fill: #FFFFFF;\n",
              "    }\n",
              "  </style>\n",
              "\n",
              "      <script>\n",
              "        const buttonEl =\n",
              "          document.querySelector('#df-b64e938b-850a-45ec-9b78-26a4dbb342e8 button.colab-df-convert');\n",
              "        buttonEl.style.display =\n",
              "          google.colab.kernel.accessAllowed ? 'block' : 'none';\n",
              "\n",
              "        async function convertToInteractive(key) {\n",
              "          const element = document.querySelector('#df-b64e938b-850a-45ec-9b78-26a4dbb342e8');\n",
              "          const dataTable =\n",
              "            await google.colab.kernel.invokeFunction('convertToInteractive',\n",
              "                                                     [key], {});\n",
              "          if (!dataTable) return;\n",
              "\n",
              "          const docLinkHtml = 'Like what you see? Visit the ' +\n",
              "            '<a target=\"_blank\" href=https://colab.research.google.com/notebooks/data_table.ipynb>data table notebook</a>'\n",
              "            + ' to learn more about interactive tables.';\n",
              "          element.innerHTML = '';\n",
              "          dataTable['output_type'] = 'display_data';\n",
              "          await google.colab.output.renderOutput(dataTable, element);\n",
              "          const docLink = document.createElement('div');\n",
              "          docLink.innerHTML = docLinkHtml;\n",
              "          element.appendChild(docLink);\n",
              "        }\n",
              "      </script>\n",
              "    </div>\n",
              "  </div>\n",
              "  "
            ]
          },
          "metadata": {},
          "execution_count": 17
        }
      ]
    },
    {
      "cell_type": "code",
      "source": [
        "full['home_elo'] = full['home_elo'].apply(lambda e : round(e))\n",
        "full['away_elo'] = full['away_elo'].apply(lambda e : round(e))\n",
        "full.head()"
      ],
      "metadata": {
        "colab": {
          "base_uri": "https://localhost:8080/",
          "height": 221
        },
        "id": "hFvtEXy7LBOU",
        "outputId": "e04b6f31-1663-4a7a-e206-21b6be3f3ba6"
      },
      "id": "hFvtEXy7LBOU",
      "execution_count": 18,
      "outputs": [
        {
          "output_type": "execute_result",
          "data": {
            "text/plain": [
              "     bookmaker home-odds  draw-odds  away-odds  match-result  match_date  \\\n",
              "0  bet-at-home      1000        420       -400             2  2009-05-13   \n",
              "1       bet365      1200        400       -345             2  2009-05-13   \n",
              "2         bwin       900        400       -400             2  2009-05-13   \n",
              "3     Pinnacle      1230        434       -333             2  2009-05-13   \n",
              "4       Unibet       900        384       -303             2  2009-05-13   \n",
              "\n",
              "  home_alias  away_alias  home_elo  away_elo  \n",
              "0      wigan  man united      1670      2014  \n",
              "1      wigan  man united      1670      2014  \n",
              "2      wigan  man united      1670      2014  \n",
              "3      wigan  man united      1670      2014  \n",
              "4      wigan  man united      1670      2014  "
            ],
            "text/html": [
              "\n",
              "  <div id=\"df-4e4aef1f-30cb-4169-b630-605151dd26ef\">\n",
              "    <div class=\"colab-df-container\">\n",
              "      <div>\n",
              "<style scoped>\n",
              "    .dataframe tbody tr th:only-of-type {\n",
              "        vertical-align: middle;\n",
              "    }\n",
              "\n",
              "    .dataframe tbody tr th {\n",
              "        vertical-align: top;\n",
              "    }\n",
              "\n",
              "    .dataframe thead th {\n",
              "        text-align: right;\n",
              "    }\n",
              "</style>\n",
              "<table border=\"1\" class=\"dataframe\">\n",
              "  <thead>\n",
              "    <tr style=\"text-align: right;\">\n",
              "      <th></th>\n",
              "      <th>bookmaker</th>\n",
              "      <th>home-odds</th>\n",
              "      <th>draw-odds</th>\n",
              "      <th>away-odds</th>\n",
              "      <th>match-result</th>\n",
              "      <th>match_date</th>\n",
              "      <th>home_alias</th>\n",
              "      <th>away_alias</th>\n",
              "      <th>home_elo</th>\n",
              "      <th>away_elo</th>\n",
              "    </tr>\n",
              "  </thead>\n",
              "  <tbody>\n",
              "    <tr>\n",
              "      <th>0</th>\n",
              "      <td>bet-at-home</td>\n",
              "      <td>1000</td>\n",
              "      <td>420</td>\n",
              "      <td>-400</td>\n",
              "      <td>2</td>\n",
              "      <td>2009-05-13</td>\n",
              "      <td>wigan</td>\n",
              "      <td>man united</td>\n",
              "      <td>1670</td>\n",
              "      <td>2014</td>\n",
              "    </tr>\n",
              "    <tr>\n",
              "      <th>1</th>\n",
              "      <td>bet365</td>\n",
              "      <td>1200</td>\n",
              "      <td>400</td>\n",
              "      <td>-345</td>\n",
              "      <td>2</td>\n",
              "      <td>2009-05-13</td>\n",
              "      <td>wigan</td>\n",
              "      <td>man united</td>\n",
              "      <td>1670</td>\n",
              "      <td>2014</td>\n",
              "    </tr>\n",
              "    <tr>\n",
              "      <th>2</th>\n",
              "      <td>bwin</td>\n",
              "      <td>900</td>\n",
              "      <td>400</td>\n",
              "      <td>-400</td>\n",
              "      <td>2</td>\n",
              "      <td>2009-05-13</td>\n",
              "      <td>wigan</td>\n",
              "      <td>man united</td>\n",
              "      <td>1670</td>\n",
              "      <td>2014</td>\n",
              "    </tr>\n",
              "    <tr>\n",
              "      <th>3</th>\n",
              "      <td>Pinnacle</td>\n",
              "      <td>1230</td>\n",
              "      <td>434</td>\n",
              "      <td>-333</td>\n",
              "      <td>2</td>\n",
              "      <td>2009-05-13</td>\n",
              "      <td>wigan</td>\n",
              "      <td>man united</td>\n",
              "      <td>1670</td>\n",
              "      <td>2014</td>\n",
              "    </tr>\n",
              "    <tr>\n",
              "      <th>4</th>\n",
              "      <td>Unibet</td>\n",
              "      <td>900</td>\n",
              "      <td>384</td>\n",
              "      <td>-303</td>\n",
              "      <td>2</td>\n",
              "      <td>2009-05-13</td>\n",
              "      <td>wigan</td>\n",
              "      <td>man united</td>\n",
              "      <td>1670</td>\n",
              "      <td>2014</td>\n",
              "    </tr>\n",
              "  </tbody>\n",
              "</table>\n",
              "</div>\n",
              "      <button class=\"colab-df-convert\" onclick=\"convertToInteractive('df-4e4aef1f-30cb-4169-b630-605151dd26ef')\"\n",
              "              title=\"Convert this dataframe to an interactive table.\"\n",
              "              style=\"display:none;\">\n",
              "        \n",
              "  <svg xmlns=\"http://www.w3.org/2000/svg\" height=\"24px\"viewBox=\"0 0 24 24\"\n",
              "       width=\"24px\">\n",
              "    <path d=\"M0 0h24v24H0V0z\" fill=\"none\"/>\n",
              "    <path d=\"M18.56 5.44l.94 2.06.94-2.06 2.06-.94-2.06-.94-.94-2.06-.94 2.06-2.06.94zm-11 1L8.5 8.5l.94-2.06 2.06-.94-2.06-.94L8.5 2.5l-.94 2.06-2.06.94zm10 10l.94 2.06.94-2.06 2.06-.94-2.06-.94-.94-2.06-.94 2.06-2.06.94z\"/><path d=\"M17.41 7.96l-1.37-1.37c-.4-.4-.92-.59-1.43-.59-.52 0-1.04.2-1.43.59L10.3 9.45l-7.72 7.72c-.78.78-.78 2.05 0 2.83L4 21.41c.39.39.9.59 1.41.59.51 0 1.02-.2 1.41-.59l7.78-7.78 2.81-2.81c.8-.78.8-2.07 0-2.86zM5.41 20L4 18.59l7.72-7.72 1.47 1.35L5.41 20z\"/>\n",
              "  </svg>\n",
              "      </button>\n",
              "      \n",
              "  <style>\n",
              "    .colab-df-container {\n",
              "      display:flex;\n",
              "      flex-wrap:wrap;\n",
              "      gap: 12px;\n",
              "    }\n",
              "\n",
              "    .colab-df-convert {\n",
              "      background-color: #E8F0FE;\n",
              "      border: none;\n",
              "      border-radius: 50%;\n",
              "      cursor: pointer;\n",
              "      display: none;\n",
              "      fill: #1967D2;\n",
              "      height: 32px;\n",
              "      padding: 0 0 0 0;\n",
              "      width: 32px;\n",
              "    }\n",
              "\n",
              "    .colab-df-convert:hover {\n",
              "      background-color: #E2EBFA;\n",
              "      box-shadow: 0px 1px 2px rgba(60, 64, 67, 0.3), 0px 1px 3px 1px rgba(60, 64, 67, 0.15);\n",
              "      fill: #174EA6;\n",
              "    }\n",
              "\n",
              "    [theme=dark] .colab-df-convert {\n",
              "      background-color: #3B4455;\n",
              "      fill: #D2E3FC;\n",
              "    }\n",
              "\n",
              "    [theme=dark] .colab-df-convert:hover {\n",
              "      background-color: #434B5C;\n",
              "      box-shadow: 0px 1px 3px 1px rgba(0, 0, 0, 0.15);\n",
              "      filter: drop-shadow(0px 1px 2px rgba(0, 0, 0, 0.3));\n",
              "      fill: #FFFFFF;\n",
              "    }\n",
              "  </style>\n",
              "\n",
              "      <script>\n",
              "        const buttonEl =\n",
              "          document.querySelector('#df-4e4aef1f-30cb-4169-b630-605151dd26ef button.colab-df-convert');\n",
              "        buttonEl.style.display =\n",
              "          google.colab.kernel.accessAllowed ? 'block' : 'none';\n",
              "\n",
              "        async function convertToInteractive(key) {\n",
              "          const element = document.querySelector('#df-4e4aef1f-30cb-4169-b630-605151dd26ef');\n",
              "          const dataTable =\n",
              "            await google.colab.kernel.invokeFunction('convertToInteractive',\n",
              "                                                     [key], {});\n",
              "          if (!dataTable) return;\n",
              "\n",
              "          const docLinkHtml = 'Like what you see? Visit the ' +\n",
              "            '<a target=\"_blank\" href=https://colab.research.google.com/notebooks/data_table.ipynb>data table notebook</a>'\n",
              "            + ' to learn more about interactive tables.';\n",
              "          element.innerHTML = '';\n",
              "          dataTable['output_type'] = 'display_data';\n",
              "          await google.colab.output.renderOutput(dataTable, element);\n",
              "          const docLink = document.createElement('div');\n",
              "          docLink.innerHTML = docLinkHtml;\n",
              "          element.appendChild(docLink);\n",
              "        }\n",
              "      </script>\n",
              "    </div>\n",
              "  </div>\n",
              "  "
            ]
          },
          "metadata": {},
          "execution_count": 18
        }
      ]
    },
    {
      "cell_type": "code",
      "execution_count": 19,
      "metadata": {
        "id": "M3H_-egg23ft"
      },
      "outputs": [],
      "source": [
        "football_df = full"
      ],
      "id": "M3H_-egg23ft"
    },
    {
      "cell_type": "markdown",
      "metadata": {
        "id": "gCyuIyTDGbLm"
      },
      "source": [
        "### Is there such thing as home advantage?\n",
        "\n",
        "Let's see how many home game have won"
      ],
      "id": "gCyuIyTDGbLm"
    },
    {
      "cell_type": "code",
      "execution_count": 20,
      "metadata": {
        "colab": {
          "base_uri": "https://localhost:8080/"
        },
        "id": "BYonuKAO-0mM",
        "outputId": "fa0a60b5-4f83-499c-bb47-7fef4138d49b"
      },
      "outputs": [
        {
          "output_type": "stream",
          "name": "stdout",
          "text": [
            "Home won:128272, draw: 79351, away won: 69314\n"
          ]
        }
      ],
      "source": [
        "(home, draw, away) = football_df['match-result'].value_counts()\n",
        "print(f\"Home won:{home}, draw: {draw}, away won: {away}\")"
      ],
      "id": "BYonuKAO-0mM"
    },
    {
      "cell_type": "code",
      "execution_count": 21,
      "metadata": {
        "colab": {
          "base_uri": "https://localhost:8080/"
        },
        "id": "xahr8BB9-RGa",
        "outputId": "f611d893-60b7-4942-dd64-fc8944abaf11"
      },
      "outputs": [
        {
          "output_type": "stream",
          "name": "stdout",
          "text": [
            "Home won: 347532, away won: 242035\n"
          ]
        }
      ],
      "source": [
        "(home, away) = basketball_df['match-result'].value_counts()\n",
        "\n",
        "print(f\"Home won: {home}, away won: {away}\")"
      ],
      "id": "xahr8BB9-RGa"
    },
    {
      "cell_type": "markdown",
      "metadata": {
        "id": "e4c1c274-04be-441e-ad7f-6272bdb00b26"
      },
      "source": [
        "## convert odds to probability"
      ],
      "id": "e4c1c274-04be-441e-ad7f-6272bdb00b26"
    },
    {
      "cell_type": "markdown",
      "metadata": {
        "id": "8BjhQ4DVky5k"
      },
      "source": [
        "### Football"
      ],
      "id": "8BjhQ4DVky5k"
    },
    {
      "cell_type": "code",
      "execution_count": 22,
      "metadata": {
        "id": "0bb5f275-4454-4434-b086-7119871fdacd"
      },
      "outputs": [],
      "source": [
        "import numpy as np\n",
        "\n",
        "def convert_american_to_decimal(odds):\n",
        "  float_odds = np.float32(odds)\n",
        "  if float_odds > 0:\n",
        "      return (float_odds / 100) + 1\n",
        "  if float_odds < 0:\n",
        "      return (100 / -float_odds) + 1\n",
        "  if float_odds == 0:\n",
        "      return 0\n",
        "  raise Exception(\"How could this happen?\" + float_odds)\n",
        "\n",
        "\n",
        "def convert_to_probability(decimal):\n",
        "    probability = (1 / decimal)\n",
        "    return round(probability, 3)\n",
        "\n",
        "\n",
        "def get_margin_of_three_odds(margin):\n",
        "    \"\"\"\n",
        "    probability over 1, multiply by margin will be the odds:\n",
        "    (1/prob) * margin = odd\n",
        "    There are 3 odds available, we assume the margin is a fixed percentage for each odd\n",
        "    home_odd + draw_odd + away_odd = total payout\n",
        "    (1/home_prob) * margin + (1/draw_prob) * margin + (1/away_prob) * margin = total payout\n",
        "    to get the margin, we simply calculate the cube root of the overround\n",
        "    \"\"\"\n",
        "    return margin ** (1/3)\n"
      ],
      "id": "0bb5f275-4454-4434-b086-7119871fdacd"
    },
    {
      "cell_type": "code",
      "execution_count": 23,
      "metadata": {
        "id": "d57c7102-107a-4f9a-9e8b-5db88b31bd02"
      },
      "outputs": [],
      "source": [
        "football_decimal_list = ['decimal-home', 'decimal-draw', 'decimal-away']\n",
        "football_odds_list = ['home-odds', 'draw-odds', 'away-odds']\n",
        "\n",
        "\n",
        "for decimal, odds in zip(football_decimal_list, football_odds_list):\n",
        "  football_df[decimal] = football_df[odds].apply(convert_american_to_decimal)\n",
        "\n",
        "\n",
        "football_prob_list = ['probability-home', 'probability-draw', 'probability-away']\n",
        "for probability, decimal_target in zip(football_prob_list, football_decimal_list):\n",
        "  football_df[probability] = football_df[decimal_target].apply(convert_to_probability)\n",
        "\n",
        "\n",
        "football_df['overround'] = football_df['probability-home'] + football_df['probability-draw'] + football_df['probability-away'] - 1\n",
        "\n",
        "football_df['margin'] = football_df['overround'].apply(get_margin_of_three_odds)"
      ],
      "id": "d57c7102-107a-4f9a-9e8b-5db88b31bd02"
    },
    {
      "cell_type": "code",
      "execution_count": 24,
      "metadata": {
        "colab": {
          "base_uri": "https://localhost:8080/",
          "height": 305
        },
        "id": "w7QjKHgWp9iQ",
        "outputId": "1a6d04ea-a43f-457e-b9e6-a52850e05c08"
      },
      "outputs": [
        {
          "output_type": "execute_result",
          "data": {
            "text/plain": [
              "          bookmaker home-odds  draw-odds  away-odds  match-result  match_date  \\\n",
              "92597        Unibet      +120        225        220             1  2008-11-29   \n",
              "88136      Pinnacle       108        242        303             1  2014-08-16   \n",
              "68925   Marathonbet      -116        254        409             0  2015-02-21   \n",
              "252825  Interwetten      -118        245        300             1  2012-11-11   \n",
              "194347         bwin      -333        450        875             0  2016-12-27   \n",
              "\n",
              "           home_alias  away_alias  home_elo  away_elo  decimal-home  \\\n",
              "92597   middlesbrough   newcastle      1720      1707      2.200000   \n",
              "88136       west brom  sunderland      1635      1648      2.080000   \n",
              "68925            hull         qpr      1588      1578      1.862069   \n",
              "252825        chelsea   liverpool      1870      1724      1.847458   \n",
              "194347      liverpool       stoke      1835      1672      1.300300   \n",
              "\n",
              "        decimal-draw  decimal-away  probability-home  probability-draw  \\\n",
              "92597           3.25          3.20             0.455             0.308   \n",
              "88136           3.42          4.03             0.481             0.292   \n",
              "68925           3.54          5.09             0.537             0.282   \n",
              "252825          3.45          4.00             0.541             0.290   \n",
              "194347          5.50          9.75             0.769             0.182   \n",
              "\n",
              "        probability-away  overround    margin  \n",
              "92597              0.312      0.075  0.421716  \n",
              "88136              0.248      0.021  0.275892  \n",
              "68925              0.196      0.015  0.246621  \n",
              "252825             0.250      0.081  0.432675  \n",
              "194347             0.103      0.054  0.377976  "
            ],
            "text/html": [
              "\n",
              "  <div id=\"df-a73871a4-63fd-4613-b85e-fe9bd0b465f4\">\n",
              "    <div class=\"colab-df-container\">\n",
              "      <div>\n",
              "<style scoped>\n",
              "    .dataframe tbody tr th:only-of-type {\n",
              "        vertical-align: middle;\n",
              "    }\n",
              "\n",
              "    .dataframe tbody tr th {\n",
              "        vertical-align: top;\n",
              "    }\n",
              "\n",
              "    .dataframe thead th {\n",
              "        text-align: right;\n",
              "    }\n",
              "</style>\n",
              "<table border=\"1\" class=\"dataframe\">\n",
              "  <thead>\n",
              "    <tr style=\"text-align: right;\">\n",
              "      <th></th>\n",
              "      <th>bookmaker</th>\n",
              "      <th>home-odds</th>\n",
              "      <th>draw-odds</th>\n",
              "      <th>away-odds</th>\n",
              "      <th>match-result</th>\n",
              "      <th>match_date</th>\n",
              "      <th>home_alias</th>\n",
              "      <th>away_alias</th>\n",
              "      <th>home_elo</th>\n",
              "      <th>away_elo</th>\n",
              "      <th>decimal-home</th>\n",
              "      <th>decimal-draw</th>\n",
              "      <th>decimal-away</th>\n",
              "      <th>probability-home</th>\n",
              "      <th>probability-draw</th>\n",
              "      <th>probability-away</th>\n",
              "      <th>overround</th>\n",
              "      <th>margin</th>\n",
              "    </tr>\n",
              "  </thead>\n",
              "  <tbody>\n",
              "    <tr>\n",
              "      <th>92597</th>\n",
              "      <td>Unibet</td>\n",
              "      <td>+120</td>\n",
              "      <td>225</td>\n",
              "      <td>220</td>\n",
              "      <td>1</td>\n",
              "      <td>2008-11-29</td>\n",
              "      <td>middlesbrough</td>\n",
              "      <td>newcastle</td>\n",
              "      <td>1720</td>\n",
              "      <td>1707</td>\n",
              "      <td>2.200000</td>\n",
              "      <td>3.25</td>\n",
              "      <td>3.20</td>\n",
              "      <td>0.455</td>\n",
              "      <td>0.308</td>\n",
              "      <td>0.312</td>\n",
              "      <td>0.075</td>\n",
              "      <td>0.421716</td>\n",
              "    </tr>\n",
              "    <tr>\n",
              "      <th>88136</th>\n",
              "      <td>Pinnacle</td>\n",
              "      <td>108</td>\n",
              "      <td>242</td>\n",
              "      <td>303</td>\n",
              "      <td>1</td>\n",
              "      <td>2014-08-16</td>\n",
              "      <td>west brom</td>\n",
              "      <td>sunderland</td>\n",
              "      <td>1635</td>\n",
              "      <td>1648</td>\n",
              "      <td>2.080000</td>\n",
              "      <td>3.42</td>\n",
              "      <td>4.03</td>\n",
              "      <td>0.481</td>\n",
              "      <td>0.292</td>\n",
              "      <td>0.248</td>\n",
              "      <td>0.021</td>\n",
              "      <td>0.275892</td>\n",
              "    </tr>\n",
              "    <tr>\n",
              "      <th>68925</th>\n",
              "      <td>Marathonbet</td>\n",
              "      <td>-116</td>\n",
              "      <td>254</td>\n",
              "      <td>409</td>\n",
              "      <td>0</td>\n",
              "      <td>2015-02-21</td>\n",
              "      <td>hull</td>\n",
              "      <td>qpr</td>\n",
              "      <td>1588</td>\n",
              "      <td>1578</td>\n",
              "      <td>1.862069</td>\n",
              "      <td>3.54</td>\n",
              "      <td>5.09</td>\n",
              "      <td>0.537</td>\n",
              "      <td>0.282</td>\n",
              "      <td>0.196</td>\n",
              "      <td>0.015</td>\n",
              "      <td>0.246621</td>\n",
              "    </tr>\n",
              "    <tr>\n",
              "      <th>252825</th>\n",
              "      <td>Interwetten</td>\n",
              "      <td>-118</td>\n",
              "      <td>245</td>\n",
              "      <td>300</td>\n",
              "      <td>1</td>\n",
              "      <td>2012-11-11</td>\n",
              "      <td>chelsea</td>\n",
              "      <td>liverpool</td>\n",
              "      <td>1870</td>\n",
              "      <td>1724</td>\n",
              "      <td>1.847458</td>\n",
              "      <td>3.45</td>\n",
              "      <td>4.00</td>\n",
              "      <td>0.541</td>\n",
              "      <td>0.290</td>\n",
              "      <td>0.250</td>\n",
              "      <td>0.081</td>\n",
              "      <td>0.432675</td>\n",
              "    </tr>\n",
              "    <tr>\n",
              "      <th>194347</th>\n",
              "      <td>bwin</td>\n",
              "      <td>-333</td>\n",
              "      <td>450</td>\n",
              "      <td>875</td>\n",
              "      <td>0</td>\n",
              "      <td>2016-12-27</td>\n",
              "      <td>liverpool</td>\n",
              "      <td>stoke</td>\n",
              "      <td>1835</td>\n",
              "      <td>1672</td>\n",
              "      <td>1.300300</td>\n",
              "      <td>5.50</td>\n",
              "      <td>9.75</td>\n",
              "      <td>0.769</td>\n",
              "      <td>0.182</td>\n",
              "      <td>0.103</td>\n",
              "      <td>0.054</td>\n",
              "      <td>0.377976</td>\n",
              "    </tr>\n",
              "  </tbody>\n",
              "</table>\n",
              "</div>\n",
              "      <button class=\"colab-df-convert\" onclick=\"convertToInteractive('df-a73871a4-63fd-4613-b85e-fe9bd0b465f4')\"\n",
              "              title=\"Convert this dataframe to an interactive table.\"\n",
              "              style=\"display:none;\">\n",
              "        \n",
              "  <svg xmlns=\"http://www.w3.org/2000/svg\" height=\"24px\"viewBox=\"0 0 24 24\"\n",
              "       width=\"24px\">\n",
              "    <path d=\"M0 0h24v24H0V0z\" fill=\"none\"/>\n",
              "    <path d=\"M18.56 5.44l.94 2.06.94-2.06 2.06-.94-2.06-.94-.94-2.06-.94 2.06-2.06.94zm-11 1L8.5 8.5l.94-2.06 2.06-.94-2.06-.94L8.5 2.5l-.94 2.06-2.06.94zm10 10l.94 2.06.94-2.06 2.06-.94-2.06-.94-.94-2.06-.94 2.06-2.06.94z\"/><path d=\"M17.41 7.96l-1.37-1.37c-.4-.4-.92-.59-1.43-.59-.52 0-1.04.2-1.43.59L10.3 9.45l-7.72 7.72c-.78.78-.78 2.05 0 2.83L4 21.41c.39.39.9.59 1.41.59.51 0 1.02-.2 1.41-.59l7.78-7.78 2.81-2.81c.8-.78.8-2.07 0-2.86zM5.41 20L4 18.59l7.72-7.72 1.47 1.35L5.41 20z\"/>\n",
              "  </svg>\n",
              "      </button>\n",
              "      \n",
              "  <style>\n",
              "    .colab-df-container {\n",
              "      display:flex;\n",
              "      flex-wrap:wrap;\n",
              "      gap: 12px;\n",
              "    }\n",
              "\n",
              "    .colab-df-convert {\n",
              "      background-color: #E8F0FE;\n",
              "      border: none;\n",
              "      border-radius: 50%;\n",
              "      cursor: pointer;\n",
              "      display: none;\n",
              "      fill: #1967D2;\n",
              "      height: 32px;\n",
              "      padding: 0 0 0 0;\n",
              "      width: 32px;\n",
              "    }\n",
              "\n",
              "    .colab-df-convert:hover {\n",
              "      background-color: #E2EBFA;\n",
              "      box-shadow: 0px 1px 2px rgba(60, 64, 67, 0.3), 0px 1px 3px 1px rgba(60, 64, 67, 0.15);\n",
              "      fill: #174EA6;\n",
              "    }\n",
              "\n",
              "    [theme=dark] .colab-df-convert {\n",
              "      background-color: #3B4455;\n",
              "      fill: #D2E3FC;\n",
              "    }\n",
              "\n",
              "    [theme=dark] .colab-df-convert:hover {\n",
              "      background-color: #434B5C;\n",
              "      box-shadow: 0px 1px 3px 1px rgba(0, 0, 0, 0.15);\n",
              "      filter: drop-shadow(0px 1px 2px rgba(0, 0, 0, 0.3));\n",
              "      fill: #FFFFFF;\n",
              "    }\n",
              "  </style>\n",
              "\n",
              "      <script>\n",
              "        const buttonEl =\n",
              "          document.querySelector('#df-a73871a4-63fd-4613-b85e-fe9bd0b465f4 button.colab-df-convert');\n",
              "        buttonEl.style.display =\n",
              "          google.colab.kernel.accessAllowed ? 'block' : 'none';\n",
              "\n",
              "        async function convertToInteractive(key) {\n",
              "          const element = document.querySelector('#df-a73871a4-63fd-4613-b85e-fe9bd0b465f4');\n",
              "          const dataTable =\n",
              "            await google.colab.kernel.invokeFunction('convertToInteractive',\n",
              "                                                     [key], {});\n",
              "          if (!dataTable) return;\n",
              "\n",
              "          const docLinkHtml = 'Like what you see? Visit the ' +\n",
              "            '<a target=\"_blank\" href=https://colab.research.google.com/notebooks/data_table.ipynb>data table notebook</a>'\n",
              "            + ' to learn more about interactive tables.';\n",
              "          element.innerHTML = '';\n",
              "          dataTable['output_type'] = 'display_data';\n",
              "          await google.colab.output.renderOutput(dataTable, element);\n",
              "          const docLink = document.createElement('div');\n",
              "          docLink.innerHTML = docLinkHtml;\n",
              "          element.appendChild(docLink);\n",
              "        }\n",
              "      </script>\n",
              "    </div>\n",
              "  </div>\n",
              "  "
            ]
          },
          "metadata": {},
          "execution_count": 24
        }
      ],
      "source": [
        "football_df.sample(5)"
      ],
      "id": "w7QjKHgWp9iQ"
    },
    {
      "cell_type": "markdown",
      "metadata": {
        "id": "pj4g_5VYk22t"
      },
      "source": [
        "### basketball"
      ],
      "id": "pj4g_5VYk22t"
    },
    {
      "cell_type": "code",
      "execution_count": 25,
      "metadata": {
        "colab": {
          "base_uri": "https://localhost:8080/",
          "height": 503
        },
        "id": "gq1IKlftk4xJ",
        "outputId": "bafbc0c7-2a18-42b9-8b27-3b6a2c0e8297"
      },
      "outputs": [
        {
          "output_type": "execute_result",
          "data": {
            "text/plain": [
              "      bookmaker home-odds away-odds                date    score  \\\n",
              "14720    Unibet      -357       277 2011-02-23 02:30:00   104:80   \n",
              "5321       bwin      -909       600 2010-03-27 01:00:00   132:96   \n",
              "28119  Pinnacle      +125      -139 2013-05-17 02:30:00    82:94   \n",
              "20716    Unibet      -333       260 2012-05-15 23:00:00    75:78   \n",
              "38322    Unibet      -303       240 2012-10-30 23:00:00  120:107   \n",
              "\n",
              "                        home               away  match-result  decimal-home  \\\n",
              "14720     Los Angeles Lakers      Atlanta Hawks             0      1.280112   \n",
              "5321            Phoenix Suns    New York Knicks             0      1.110011   \n",
              "28119  Golden State Warriors  San Antonio Spurs             1      2.250000   \n",
              "20716             Miami Heat     Indiana Pacers             1      1.300300   \n",
              "38322             Miami Heat     Boston Celtics             0      1.330033   \n",
              "\n",
              "       decimal-away  probability-home  probability-away  overround    margin  \n",
              "14720      3.770000             0.781             0.265      0.046  0.358305  \n",
              "5321       7.000000             0.901             0.143      0.044  0.353035  \n",
              "28119      1.719424             0.444             0.582      0.026  0.296250  \n",
              "20716      3.600000             0.769             0.278      0.047  0.360883  \n",
              "38322      3.400000             0.752             0.294      0.046  0.358305  "
            ],
            "text/html": [
              "\n",
              "  <div id=\"df-de28cb81-382a-46ec-b4d2-3789faa69c21\">\n",
              "    <div class=\"colab-df-container\">\n",
              "      <div>\n",
              "<style scoped>\n",
              "    .dataframe tbody tr th:only-of-type {\n",
              "        vertical-align: middle;\n",
              "    }\n",
              "\n",
              "    .dataframe tbody tr th {\n",
              "        vertical-align: top;\n",
              "    }\n",
              "\n",
              "    .dataframe thead th {\n",
              "        text-align: right;\n",
              "    }\n",
              "</style>\n",
              "<table border=\"1\" class=\"dataframe\">\n",
              "  <thead>\n",
              "    <tr style=\"text-align: right;\">\n",
              "      <th></th>\n",
              "      <th>bookmaker</th>\n",
              "      <th>home-odds</th>\n",
              "      <th>away-odds</th>\n",
              "      <th>date</th>\n",
              "      <th>score</th>\n",
              "      <th>home</th>\n",
              "      <th>away</th>\n",
              "      <th>match-result</th>\n",
              "      <th>decimal-home</th>\n",
              "      <th>decimal-away</th>\n",
              "      <th>probability-home</th>\n",
              "      <th>probability-away</th>\n",
              "      <th>overround</th>\n",
              "      <th>margin</th>\n",
              "    </tr>\n",
              "  </thead>\n",
              "  <tbody>\n",
              "    <tr>\n",
              "      <th>14720</th>\n",
              "      <td>Unibet</td>\n",
              "      <td>-357</td>\n",
              "      <td>277</td>\n",
              "      <td>2011-02-23 02:30:00</td>\n",
              "      <td>104:80</td>\n",
              "      <td>Los Angeles Lakers</td>\n",
              "      <td>Atlanta Hawks</td>\n",
              "      <td>0</td>\n",
              "      <td>1.280112</td>\n",
              "      <td>3.770000</td>\n",
              "      <td>0.781</td>\n",
              "      <td>0.265</td>\n",
              "      <td>0.046</td>\n",
              "      <td>0.358305</td>\n",
              "    </tr>\n",
              "    <tr>\n",
              "      <th>5321</th>\n",
              "      <td>bwin</td>\n",
              "      <td>-909</td>\n",
              "      <td>600</td>\n",
              "      <td>2010-03-27 01:00:00</td>\n",
              "      <td>132:96</td>\n",
              "      <td>Phoenix Suns</td>\n",
              "      <td>New York Knicks</td>\n",
              "      <td>0</td>\n",
              "      <td>1.110011</td>\n",
              "      <td>7.000000</td>\n",
              "      <td>0.901</td>\n",
              "      <td>0.143</td>\n",
              "      <td>0.044</td>\n",
              "      <td>0.353035</td>\n",
              "    </tr>\n",
              "    <tr>\n",
              "      <th>28119</th>\n",
              "      <td>Pinnacle</td>\n",
              "      <td>+125</td>\n",
              "      <td>-139</td>\n",
              "      <td>2013-05-17 02:30:00</td>\n",
              "      <td>82:94</td>\n",
              "      <td>Golden State Warriors</td>\n",
              "      <td>San Antonio Spurs</td>\n",
              "      <td>1</td>\n",
              "      <td>2.250000</td>\n",
              "      <td>1.719424</td>\n",
              "      <td>0.444</td>\n",
              "      <td>0.582</td>\n",
              "      <td>0.026</td>\n",
              "      <td>0.296250</td>\n",
              "    </tr>\n",
              "    <tr>\n",
              "      <th>20716</th>\n",
              "      <td>Unibet</td>\n",
              "      <td>-333</td>\n",
              "      <td>260</td>\n",
              "      <td>2012-05-15 23:00:00</td>\n",
              "      <td>75:78</td>\n",
              "      <td>Miami Heat</td>\n",
              "      <td>Indiana Pacers</td>\n",
              "      <td>1</td>\n",
              "      <td>1.300300</td>\n",
              "      <td>3.600000</td>\n",
              "      <td>0.769</td>\n",
              "      <td>0.278</td>\n",
              "      <td>0.047</td>\n",
              "      <td>0.360883</td>\n",
              "    </tr>\n",
              "    <tr>\n",
              "      <th>38322</th>\n",
              "      <td>Unibet</td>\n",
              "      <td>-303</td>\n",
              "      <td>240</td>\n",
              "      <td>2012-10-30 23:00:00</td>\n",
              "      <td>120:107</td>\n",
              "      <td>Miami Heat</td>\n",
              "      <td>Boston Celtics</td>\n",
              "      <td>0</td>\n",
              "      <td>1.330033</td>\n",
              "      <td>3.400000</td>\n",
              "      <td>0.752</td>\n",
              "      <td>0.294</td>\n",
              "      <td>0.046</td>\n",
              "      <td>0.358305</td>\n",
              "    </tr>\n",
              "  </tbody>\n",
              "</table>\n",
              "</div>\n",
              "      <button class=\"colab-df-convert\" onclick=\"convertToInteractive('df-de28cb81-382a-46ec-b4d2-3789faa69c21')\"\n",
              "              title=\"Convert this dataframe to an interactive table.\"\n",
              "              style=\"display:none;\">\n",
              "        \n",
              "  <svg xmlns=\"http://www.w3.org/2000/svg\" height=\"24px\"viewBox=\"0 0 24 24\"\n",
              "       width=\"24px\">\n",
              "    <path d=\"M0 0h24v24H0V0z\" fill=\"none\"/>\n",
              "    <path d=\"M18.56 5.44l.94 2.06.94-2.06 2.06-.94-2.06-.94-.94-2.06-.94 2.06-2.06.94zm-11 1L8.5 8.5l.94-2.06 2.06-.94-2.06-.94L8.5 2.5l-.94 2.06-2.06.94zm10 10l.94 2.06.94-2.06 2.06-.94-2.06-.94-.94-2.06-.94 2.06-2.06.94z\"/><path d=\"M17.41 7.96l-1.37-1.37c-.4-.4-.92-.59-1.43-.59-.52 0-1.04.2-1.43.59L10.3 9.45l-7.72 7.72c-.78.78-.78 2.05 0 2.83L4 21.41c.39.39.9.59 1.41.59.51 0 1.02-.2 1.41-.59l7.78-7.78 2.81-2.81c.8-.78.8-2.07 0-2.86zM5.41 20L4 18.59l7.72-7.72 1.47 1.35L5.41 20z\"/>\n",
              "  </svg>\n",
              "      </button>\n",
              "      \n",
              "  <style>\n",
              "    .colab-df-container {\n",
              "      display:flex;\n",
              "      flex-wrap:wrap;\n",
              "      gap: 12px;\n",
              "    }\n",
              "\n",
              "    .colab-df-convert {\n",
              "      background-color: #E8F0FE;\n",
              "      border: none;\n",
              "      border-radius: 50%;\n",
              "      cursor: pointer;\n",
              "      display: none;\n",
              "      fill: #1967D2;\n",
              "      height: 32px;\n",
              "      padding: 0 0 0 0;\n",
              "      width: 32px;\n",
              "    }\n",
              "\n",
              "    .colab-df-convert:hover {\n",
              "      background-color: #E2EBFA;\n",
              "      box-shadow: 0px 1px 2px rgba(60, 64, 67, 0.3), 0px 1px 3px 1px rgba(60, 64, 67, 0.15);\n",
              "      fill: #174EA6;\n",
              "    }\n",
              "\n",
              "    [theme=dark] .colab-df-convert {\n",
              "      background-color: #3B4455;\n",
              "      fill: #D2E3FC;\n",
              "    }\n",
              "\n",
              "    [theme=dark] .colab-df-convert:hover {\n",
              "      background-color: #434B5C;\n",
              "      box-shadow: 0px 1px 3px 1px rgba(0, 0, 0, 0.15);\n",
              "      filter: drop-shadow(0px 1px 2px rgba(0, 0, 0, 0.3));\n",
              "      fill: #FFFFFF;\n",
              "    }\n",
              "  </style>\n",
              "\n",
              "      <script>\n",
              "        const buttonEl =\n",
              "          document.querySelector('#df-de28cb81-382a-46ec-b4d2-3789faa69c21 button.colab-df-convert');\n",
              "        buttonEl.style.display =\n",
              "          google.colab.kernel.accessAllowed ? 'block' : 'none';\n",
              "\n",
              "        async function convertToInteractive(key) {\n",
              "          const element = document.querySelector('#df-de28cb81-382a-46ec-b4d2-3789faa69c21');\n",
              "          const dataTable =\n",
              "            await google.colab.kernel.invokeFunction('convertToInteractive',\n",
              "                                                     [key], {});\n",
              "          if (!dataTable) return;\n",
              "\n",
              "          const docLinkHtml = 'Like what you see? Visit the ' +\n",
              "            '<a target=\"_blank\" href=https://colab.research.google.com/notebooks/data_table.ipynb>data table notebook</a>'\n",
              "            + ' to learn more about interactive tables.';\n",
              "          element.innerHTML = '';\n",
              "          dataTable['output_type'] = 'display_data';\n",
              "          await google.colab.output.renderOutput(dataTable, element);\n",
              "          const docLink = document.createElement('div');\n",
              "          docLink.innerHTML = docLinkHtml;\n",
              "          element.appendChild(docLink);\n",
              "        }\n",
              "      </script>\n",
              "    </div>\n",
              "  </div>\n",
              "  "
            ]
          },
          "metadata": {},
          "execution_count": 25
        }
      ],
      "source": [
        "basketball_odds_list = ['home-odds', 'away-odds']\n",
        "basketball_decimal_list = ['decimal-home', 'decimal-away']\n",
        "\n",
        "for decimal, odds in zip(basketball_decimal_list, basketball_odds_list):\n",
        "  basketball_df[decimal] = basketball_df[odds].apply(convert_american_to_decimal)\n",
        "\n",
        "\n",
        "basketball_prob_list = ['probability-home', 'probability-away']\n",
        "for probability, decimal_target in zip(basketball_prob_list, basketball_decimal_list):\n",
        "  basketball_df[probability] = basketball_df[decimal_target].apply(convert_to_probability)\n",
        "\n",
        "\n",
        "basketball_df['overround'] = basketball_df['probability-home'] + basketball_df['probability-away'] - 1\n",
        "\n",
        "basketball_df['margin'] = basketball_df['overround'].apply(get_margin_of_three_odds)\n",
        "basketball_df.sample(5)"
      ],
      "id": "gq1IKlftk4xJ"
    },
    {
      "cell_type": "markdown",
      "source": [
        "### standard scale"
      ],
      "metadata": {
        "id": "o6fCJvPjM6HC"
      },
      "id": "o6fCJvPjM6HC"
    },
    {
      "cell_type": "code",
      "source": [
        "from sklearn.preprocessing import StandardScaler\n",
        "\n",
        "football_df[['home_elo_std', 'away_elo_std']] = StandardScaler().fit_transform(football_df[['home_elo', 'away_elo']])\n",
        "football_df.head()"
      ],
      "metadata": {
        "colab": {
          "base_uri": "https://localhost:8080/",
          "height": 305
        },
        "id": "Z0Eu7ru9M9ob",
        "outputId": "abc86d85-a1de-4cef-caa0-ed5a585efb14"
      },
      "id": "Z0Eu7ru9M9ob",
      "execution_count": 26,
      "outputs": [
        {
          "output_type": "execute_result",
          "data": {
            "text/plain": [
              "     bookmaker home-odds  draw-odds  away-odds  match-result  match_date  \\\n",
              "0  bet-at-home      1000        420       -400             2  2009-05-13   \n",
              "1       bet365      1200        400       -345             2  2009-05-13   \n",
              "2         bwin       900        400       -400             2  2009-05-13   \n",
              "3     Pinnacle      1230        434       -333             2  2009-05-13   \n",
              "4       Unibet       900        384       -303             2  2009-05-13   \n",
              "\n",
              "  home_alias  away_alias  home_elo  away_elo  decimal-home  decimal-draw  \\\n",
              "0      wigan  man united      1670      2014          11.0          5.20   \n",
              "1      wigan  man united      1670      2014          13.0          5.00   \n",
              "2      wigan  man united      1670      2014          10.0          5.00   \n",
              "3      wigan  man united      1670      2014          13.3          5.34   \n",
              "4      wigan  man united      1670      2014          10.0          4.84   \n",
              "\n",
              "   decimal-away  probability-home  probability-draw  probability-away  \\\n",
              "0      1.250000             0.091             0.192             0.800   \n",
              "1      1.289855             0.077             0.200             0.775   \n",
              "2      1.250000             0.100             0.200             0.800   \n",
              "3      1.300300             0.075             0.187             0.769   \n",
              "4      1.330033             0.100             0.207             0.752   \n",
              "\n",
              "   overround    margin  home_elo_std  away_elo_std  \n",
              "0      0.083  0.436207     -0.443966      2.578341  \n",
              "1      0.052  0.373251     -0.443966      2.578341  \n",
              "2      0.100  0.464159     -0.443966      2.578341  \n",
              "3      0.031  0.314138     -0.443966      2.578341  \n",
              "4      0.059  0.389300     -0.443966      2.578341  "
            ],
            "text/html": [
              "\n",
              "  <div id=\"df-23864456-d553-464b-bedc-5bbb70429e9c\">\n",
              "    <div class=\"colab-df-container\">\n",
              "      <div>\n",
              "<style scoped>\n",
              "    .dataframe tbody tr th:only-of-type {\n",
              "        vertical-align: middle;\n",
              "    }\n",
              "\n",
              "    .dataframe tbody tr th {\n",
              "        vertical-align: top;\n",
              "    }\n",
              "\n",
              "    .dataframe thead th {\n",
              "        text-align: right;\n",
              "    }\n",
              "</style>\n",
              "<table border=\"1\" class=\"dataframe\">\n",
              "  <thead>\n",
              "    <tr style=\"text-align: right;\">\n",
              "      <th></th>\n",
              "      <th>bookmaker</th>\n",
              "      <th>home-odds</th>\n",
              "      <th>draw-odds</th>\n",
              "      <th>away-odds</th>\n",
              "      <th>match-result</th>\n",
              "      <th>match_date</th>\n",
              "      <th>home_alias</th>\n",
              "      <th>away_alias</th>\n",
              "      <th>home_elo</th>\n",
              "      <th>away_elo</th>\n",
              "      <th>decimal-home</th>\n",
              "      <th>decimal-draw</th>\n",
              "      <th>decimal-away</th>\n",
              "      <th>probability-home</th>\n",
              "      <th>probability-draw</th>\n",
              "      <th>probability-away</th>\n",
              "      <th>overround</th>\n",
              "      <th>margin</th>\n",
              "      <th>home_elo_std</th>\n",
              "      <th>away_elo_std</th>\n",
              "    </tr>\n",
              "  </thead>\n",
              "  <tbody>\n",
              "    <tr>\n",
              "      <th>0</th>\n",
              "      <td>bet-at-home</td>\n",
              "      <td>1000</td>\n",
              "      <td>420</td>\n",
              "      <td>-400</td>\n",
              "      <td>2</td>\n",
              "      <td>2009-05-13</td>\n",
              "      <td>wigan</td>\n",
              "      <td>man united</td>\n",
              "      <td>1670</td>\n",
              "      <td>2014</td>\n",
              "      <td>11.0</td>\n",
              "      <td>5.20</td>\n",
              "      <td>1.250000</td>\n",
              "      <td>0.091</td>\n",
              "      <td>0.192</td>\n",
              "      <td>0.800</td>\n",
              "      <td>0.083</td>\n",
              "      <td>0.436207</td>\n",
              "      <td>-0.443966</td>\n",
              "      <td>2.578341</td>\n",
              "    </tr>\n",
              "    <tr>\n",
              "      <th>1</th>\n",
              "      <td>bet365</td>\n",
              "      <td>1200</td>\n",
              "      <td>400</td>\n",
              "      <td>-345</td>\n",
              "      <td>2</td>\n",
              "      <td>2009-05-13</td>\n",
              "      <td>wigan</td>\n",
              "      <td>man united</td>\n",
              "      <td>1670</td>\n",
              "      <td>2014</td>\n",
              "      <td>13.0</td>\n",
              "      <td>5.00</td>\n",
              "      <td>1.289855</td>\n",
              "      <td>0.077</td>\n",
              "      <td>0.200</td>\n",
              "      <td>0.775</td>\n",
              "      <td>0.052</td>\n",
              "      <td>0.373251</td>\n",
              "      <td>-0.443966</td>\n",
              "      <td>2.578341</td>\n",
              "    </tr>\n",
              "    <tr>\n",
              "      <th>2</th>\n",
              "      <td>bwin</td>\n",
              "      <td>900</td>\n",
              "      <td>400</td>\n",
              "      <td>-400</td>\n",
              "      <td>2</td>\n",
              "      <td>2009-05-13</td>\n",
              "      <td>wigan</td>\n",
              "      <td>man united</td>\n",
              "      <td>1670</td>\n",
              "      <td>2014</td>\n",
              "      <td>10.0</td>\n",
              "      <td>5.00</td>\n",
              "      <td>1.250000</td>\n",
              "      <td>0.100</td>\n",
              "      <td>0.200</td>\n",
              "      <td>0.800</td>\n",
              "      <td>0.100</td>\n",
              "      <td>0.464159</td>\n",
              "      <td>-0.443966</td>\n",
              "      <td>2.578341</td>\n",
              "    </tr>\n",
              "    <tr>\n",
              "      <th>3</th>\n",
              "      <td>Pinnacle</td>\n",
              "      <td>1230</td>\n",
              "      <td>434</td>\n",
              "      <td>-333</td>\n",
              "      <td>2</td>\n",
              "      <td>2009-05-13</td>\n",
              "      <td>wigan</td>\n",
              "      <td>man united</td>\n",
              "      <td>1670</td>\n",
              "      <td>2014</td>\n",
              "      <td>13.3</td>\n",
              "      <td>5.34</td>\n",
              "      <td>1.300300</td>\n",
              "      <td>0.075</td>\n",
              "      <td>0.187</td>\n",
              "      <td>0.769</td>\n",
              "      <td>0.031</td>\n",
              "      <td>0.314138</td>\n",
              "      <td>-0.443966</td>\n",
              "      <td>2.578341</td>\n",
              "    </tr>\n",
              "    <tr>\n",
              "      <th>4</th>\n",
              "      <td>Unibet</td>\n",
              "      <td>900</td>\n",
              "      <td>384</td>\n",
              "      <td>-303</td>\n",
              "      <td>2</td>\n",
              "      <td>2009-05-13</td>\n",
              "      <td>wigan</td>\n",
              "      <td>man united</td>\n",
              "      <td>1670</td>\n",
              "      <td>2014</td>\n",
              "      <td>10.0</td>\n",
              "      <td>4.84</td>\n",
              "      <td>1.330033</td>\n",
              "      <td>0.100</td>\n",
              "      <td>0.207</td>\n",
              "      <td>0.752</td>\n",
              "      <td>0.059</td>\n",
              "      <td>0.389300</td>\n",
              "      <td>-0.443966</td>\n",
              "      <td>2.578341</td>\n",
              "    </tr>\n",
              "  </tbody>\n",
              "</table>\n",
              "</div>\n",
              "      <button class=\"colab-df-convert\" onclick=\"convertToInteractive('df-23864456-d553-464b-bedc-5bbb70429e9c')\"\n",
              "              title=\"Convert this dataframe to an interactive table.\"\n",
              "              style=\"display:none;\">\n",
              "        \n",
              "  <svg xmlns=\"http://www.w3.org/2000/svg\" height=\"24px\"viewBox=\"0 0 24 24\"\n",
              "       width=\"24px\">\n",
              "    <path d=\"M0 0h24v24H0V0z\" fill=\"none\"/>\n",
              "    <path d=\"M18.56 5.44l.94 2.06.94-2.06 2.06-.94-2.06-.94-.94-2.06-.94 2.06-2.06.94zm-11 1L8.5 8.5l.94-2.06 2.06-.94-2.06-.94L8.5 2.5l-.94 2.06-2.06.94zm10 10l.94 2.06.94-2.06 2.06-.94-2.06-.94-.94-2.06-.94 2.06-2.06.94z\"/><path d=\"M17.41 7.96l-1.37-1.37c-.4-.4-.92-.59-1.43-.59-.52 0-1.04.2-1.43.59L10.3 9.45l-7.72 7.72c-.78.78-.78 2.05 0 2.83L4 21.41c.39.39.9.59 1.41.59.51 0 1.02-.2 1.41-.59l7.78-7.78 2.81-2.81c.8-.78.8-2.07 0-2.86zM5.41 20L4 18.59l7.72-7.72 1.47 1.35L5.41 20z\"/>\n",
              "  </svg>\n",
              "      </button>\n",
              "      \n",
              "  <style>\n",
              "    .colab-df-container {\n",
              "      display:flex;\n",
              "      flex-wrap:wrap;\n",
              "      gap: 12px;\n",
              "    }\n",
              "\n",
              "    .colab-df-convert {\n",
              "      background-color: #E8F0FE;\n",
              "      border: none;\n",
              "      border-radius: 50%;\n",
              "      cursor: pointer;\n",
              "      display: none;\n",
              "      fill: #1967D2;\n",
              "      height: 32px;\n",
              "      padding: 0 0 0 0;\n",
              "      width: 32px;\n",
              "    }\n",
              "\n",
              "    .colab-df-convert:hover {\n",
              "      background-color: #E2EBFA;\n",
              "      box-shadow: 0px 1px 2px rgba(60, 64, 67, 0.3), 0px 1px 3px 1px rgba(60, 64, 67, 0.15);\n",
              "      fill: #174EA6;\n",
              "    }\n",
              "\n",
              "    [theme=dark] .colab-df-convert {\n",
              "      background-color: #3B4455;\n",
              "      fill: #D2E3FC;\n",
              "    }\n",
              "\n",
              "    [theme=dark] .colab-df-convert:hover {\n",
              "      background-color: #434B5C;\n",
              "      box-shadow: 0px 1px 3px 1px rgba(0, 0, 0, 0.15);\n",
              "      filter: drop-shadow(0px 1px 2px rgba(0, 0, 0, 0.3));\n",
              "      fill: #FFFFFF;\n",
              "    }\n",
              "  </style>\n",
              "\n",
              "      <script>\n",
              "        const buttonEl =\n",
              "          document.querySelector('#df-23864456-d553-464b-bedc-5bbb70429e9c button.colab-df-convert');\n",
              "        buttonEl.style.display =\n",
              "          google.colab.kernel.accessAllowed ? 'block' : 'none';\n",
              "\n",
              "        async function convertToInteractive(key) {\n",
              "          const element = document.querySelector('#df-23864456-d553-464b-bedc-5bbb70429e9c');\n",
              "          const dataTable =\n",
              "            await google.colab.kernel.invokeFunction('convertToInteractive',\n",
              "                                                     [key], {});\n",
              "          if (!dataTable) return;\n",
              "\n",
              "          const docLinkHtml = 'Like what you see? Visit the ' +\n",
              "            '<a target=\"_blank\" href=https://colab.research.google.com/notebooks/data_table.ipynb>data table notebook</a>'\n",
              "            + ' to learn more about interactive tables.';\n",
              "          element.innerHTML = '';\n",
              "          dataTable['output_type'] = 'display_data';\n",
              "          await google.colab.output.renderOutput(dataTable, element);\n",
              "          const docLink = document.createElement('div');\n",
              "          docLink.innerHTML = docLinkHtml;\n",
              "          element.appendChild(docLink);\n",
              "        }\n",
              "      </script>\n",
              "    </div>\n",
              "  </div>\n",
              "  "
            ]
          },
          "metadata": {},
          "execution_count": 26
        }
      ]
    },
    {
      "cell_type": "code",
      "source": [],
      "metadata": {
        "id": "yWfNZpJZwsWF"
      },
      "id": "yWfNZpJZwsWF",
      "execution_count": 26,
      "outputs": []
    },
    {
      "cell_type": "markdown",
      "metadata": {
        "id": "fd607a41-67f5-4c55-96cd-de4b4fdc8b17"
      },
      "source": [
        "## Ensemble modelling: soft vote"
      ],
      "id": "fd607a41-67f5-4c55-96cd-de4b4fdc8b17"
    },
    {
      "cell_type": "markdown",
      "metadata": {
        "id": "1HYdeYRATl7Z"
      },
      "source": [
        "### Football"
      ],
      "id": "1HYdeYRATl7Z"
    },
    {
      "cell_type": "code",
      "execution_count": 27,
      "metadata": {
        "id": "4a4e6cef-445e-4cda-a73e-38531c9cf144"
      },
      "outputs": [],
      "source": [
        "df = football_df\n",
        "\n",
        "unibet_df = df[df['bookmaker'] == 'Unibet']\n",
        "william_hill_df = df[df['bookmaker'] == 'William Hill']\n",
        "bet365_df = df[df['bookmaker'] == 'bet365']\n",
        "\n",
        "other_bookmakers = df[~df['bookmaker'].isin(['Unibet', 'William Hill', 'bet365'])]"
      ],
      "id": "4a4e6cef-445e-4cda-a73e-38531c9cf144"
    },
    {
      "cell_type": "code",
      "execution_count": 28,
      "metadata": {
        "colab": {
          "base_uri": "https://localhost:8080/"
        },
        "id": "xgHYNpMkUbkP",
        "outputId": "b4bd5ade-3667-4079-ff65-e3044ebf7c6e"
      },
      "outputs": [
        {
          "output_type": "stream",
          "name": "stdout",
          "text": [
            "(34817, 20): unibet\n",
            "(34056, 20): william hill\n",
            "(34910, 20): bet365\n",
            "(173154, 20): others\n"
          ]
        }
      ],
      "source": [
        "df_list = [unibet_df, william_hill_df, bet365_df, other_bookmakers]\n",
        "\n",
        "for df, name in zip(df_list, ['unibet', 'william hill', 'bet365', 'others']):\n",
        "  print(f\"{df.shape}: {name}\")"
      ],
      "id": "xgHYNpMkUbkP"
    },
    {
      "cell_type": "code",
      "execution_count": 29,
      "metadata": {
        "id": "ffdfc95a-84c2-4aab-9584-77da6a0f2a17"
      },
      "outputs": [],
      "source": [
        "from sklearn.model_selection import train_test_split\n",
        "\n",
        "x_var = ['probability-draw', 'probability-away', 'home_elo_std', 'away_elo_std']\n",
        "# x_var = ['decimal-home', 'decimal-draw','decimal-away']\n",
        "y = ['probability-home']\n",
        "\n",
        "unibet_x_train , unibet_x_test, unibet_y_train, unibet_y_test = train_test_split(unibet_df[x_var], unibet_df[y], random_state=0)\n",
        "william_hill_x_train , william_hill_x_test, william_hill_y_train, william_hill_y_test = train_test_split(william_hill_df[x_var], william_hill_df[y], random_state=0)\n",
        "bet365_x_train , bet365_x_test, bet365_y_train, bet365_y_test = train_test_split(bet365_df[x_var], bet365_df[y], random_state=0)\n",
        "other_x_train , other_x_test, other_y_train, other_y_test = train_test_split(other_bookmakers[x_var], other_bookmakers[y], random_state=0)"
      ],
      "id": "ffdfc95a-84c2-4aab-9584-77da6a0f2a17"
    },
    {
      "cell_type": "code",
      "source": [
        "from sklearn.linear_model import BayesianRidge\n",
        "from sklearn.ensemble import GradientBoostingRegressor\n",
        "from sklearn.ensemble import RandomForestRegressor\n",
        "from sklearn.ensemble import VotingRegressor\n",
        "\n",
        "reg1 = GradientBoostingRegressor(random_state=1)\n",
        "reg2 = RandomForestRegressor(random_state=1)\n",
        "reg3 = BayesianRidge()\n",
        "\n",
        "reg1 = reg1.fit(other_x_train, other_y_train)\n",
        "reg2 = reg2.fit(other_x_train, other_y_train)\n",
        "reg3 = reg3.fit(other_x_train, other_y_train)\n",
        "\n",
        "# consensus model\n",
        "ereg = VotingRegressor(estimators=[('gb', reg1), ('rf', reg2), ('br', reg3)])\n",
        "ereg = ereg.fit(bet365_x_train, bet365_y_train)"
      ],
      "metadata": {
        "id": "WfFQ_n-1Ld8c"
      },
      "id": "WfFQ_n-1Ld8c",
      "execution_count": 33,
      "outputs": []
    },
    {
      "cell_type": "markdown",
      "source": [
        "#### Evaluate model"
      ],
      "metadata": {
        "id": "ty_jxtRjPjHr"
      },
      "id": "ty_jxtRjPjHr"
    },
    {
      "cell_type": "code",
      "source": [
        "from sklearn.metrics import mean_squared_error\n",
        "import numpy as np\n",
        "y_true = other_y_test\n",
        "y_pred = ereg.predict(other_x_test)\n",
        "score = np.sqrt(mean_squared_error(y_true, y_pred))\n",
        "print(\"The RMSE of Model is {}\".format(round(score, 2)))"
      ],
      "metadata": {
        "colab": {
          "base_uri": "https://localhost:8080/"
        },
        "id": "NEppEDw5UQdQ",
        "outputId": "4e92670b-a492-49c7-e682-045c810daad5"
      },
      "id": "NEppEDw5UQdQ",
      "execution_count": 34,
      "outputs": [
        {
          "output_type": "stream",
          "name": "stdout",
          "text": [
            "The RMSE of Model is 0.03\n"
          ]
        }
      ]
    },
    {
      "cell_type": "code",
      "source": [
        "import matplotlib.pyplot as plt\n",
        "\n",
        "xt = other_x_train[:20]\n",
        "\n",
        "pred1 = reg1.predict(xt)\n",
        "pred2 = reg2.predict(xt)\n",
        "pred3 = reg3.predict(xt)\n",
        "pred4 = ereg.predict(xt)\n",
        "\n",
        "plt.figure()\n",
        "plt.plot(pred1, \"gd\", label=\"GradientBoostingRegressor\")\n",
        "plt.plot(pred2, \"b^\", label=\"RandomForestRegressor\")\n",
        "plt.plot(pred3, \"ys\", label=\"BayesianRidge\")\n",
        "plt.plot(pred4, \"r*\", ms=10, label=\"VotingRegressor\")\n",
        "\n",
        "plt.tick_params(axis=\"x\", which=\"both\", bottom=False, top=False, labelbottom=False)\n",
        "plt.ylabel(\"predicted\")\n",
        "plt.xlabel(\"training samples\")\n",
        "plt.legend(loc=\"best\")\n",
        "plt.title(\"Regressor predictions and their average\")\n",
        "\n",
        "plt.show()"
      ],
      "metadata": {
        "colab": {
          "base_uri": "https://localhost:8080/",
          "height": 448
        },
        "id": "bBHtIilhwoHb",
        "outputId": "0e8cc268-1d56-4b8d-b701-fc1ecce6b159"
      },
      "id": "bBHtIilhwoHb",
      "execution_count": 35,
      "outputs": [
        {
          "output_type": "display_data",
          "data": {
            "text/plain": [
              "<Figure size 640x480 with 1 Axes>"
            ],
            "image/png": "[encoded data removed]"
          },
          "metadata": {}
        }
      ]
    },
    {
      "cell_type": "markdown",
      "metadata": {
        "id": "ToHnTJNOkHK6"
      },
      "source": [
        "### Basketball"
      ],
      "id": "ToHnTJNOkHK6"
    },
    {
      "cell_type": "code",
      "execution_count": null,
      "metadata": {
        "id": "UEfo54clkPg0"
      },
      "outputs": [],
      "source": [
        "df = basketball_df\n",
        "\n",
        "unibet_df = df[df['bookmaker'] == 'Unibet']\n",
        "william_hill_df = df[df['bookmaker'] == 'William Hill']\n",
        "bet365_df = df[df['bookmaker'] == 'bet365']\n",
        "\n",
        "other_bookmakers = df[~df['bookmaker'].isin(['Unibet', 'William Hill', 'bet365'])]"
      ],
      "id": "UEfo54clkPg0"
    },
    {
      "cell_type": "code",
      "execution_count": null,
      "metadata": {
        "colab": {
          "base_uri": "https://localhost:8080/"
        },
        "id": "MuX6p0tqkT-J",
        "outputId": "d0b22d6e-21c4-4a11-ed92-1551ad527980"
      },
      "outputs": [
        {
          "name": "stdout",
          "output_type": "stream",
          "text": [
            "(78903, 13): unibet\n",
            "(59219, 13): william hill\n",
            "(77706, 13): bet365\n",
            "(373739, 13): others\n"
          ]
        }
      ],
      "source": [
        "df_list = [unibet_df, william_hill_df, bet365_df, other_bookmakers]\n",
        "\n",
        "for df, name in zip(df_list, ['unibet', 'william hill', 'bet365', 'others']):\n",
        "  print(f\"{df.shape}: {name}\")"
      ],
      "id": "MuX6p0tqkT-J"
    },
    {
      "cell_type": "code",
      "execution_count": null,
      "metadata": {
        "id": "-acx7T3MkVw-"
      },
      "outputs": [],
      "source": [
        "x_var = ['decimal-home', 'decimal-away']\n",
        "y = ['match-result']\n",
        "\n",
        "unibet_x_train , unibet_x_test, unibet_y_train, unibet_y_test = train_test_split(unibet_df[x_var], unibet_df[y], random_state=0)\n",
        "william_hill_x_train , william_hill_x_test, william_hill_y_train, william_hill_y_test = train_test_split(william_hill_df[x_var], william_hill_df[y], random_state=0)\n",
        "bet365_x_train , bet365_x_test, bet365_y_train, bet365_y_test = train_test_split(bet365_df[x_var], bet365_df[y], random_state=0)\n",
        "other_x_train , other_x_test, other_y_train, other_y_test = train_test_split(other_bookmakers[x_var], other_bookmakers[y], random_state=0)"
      ],
      "id": "-acx7T3MkVw-"
    },
    {
      "cell_type": "markdown",
      "metadata": {
        "id": "dUmr5Xeya9wA"
      },
      "source": [
        "## Save the model"
      ],
      "id": "dUmr5Xeya9wA"
    },
    {
      "cell_type": "code",
      "execution_count": null,
      "metadata": {
        "colab": {
          "base_uri": "https://localhost:8080/"
        },
        "id": "56781722-0bf3-4962-abc9-83d9bb2fcecd",
        "outputId": "5017aeef-0f2c-480c-c346-099e19a07e2a"
      },
      "outputs": [
        {
          "output_type": "execute_result",
          "data": {
            "text/plain": [
              "['/content/drive/MyDrive/model.pkl']"
            ]
          },
          "metadata": {},
          "execution_count": 47
        }
      ],
      "source": [
        "# save to file\n",
        "from joblib import dump\n",
        "\n",
        "dump(ereg, '/content/drive/MyDrive/model.pkl')"
      ],
      "id": "56781722-0bf3-4962-abc9-83d9bb2fcecd"
    },
    {
      "cell_type": "code",
      "source": [
        "ensemble_model.predict([[0.4, 0.1, 0.5,]])"
      ],
      "metadata": {
        "colab": {
          "base_uri": "https://localhost:8080/"
        },
        "id": "uIHw3QMRmBVa",
        "outputId": "c08b68f6-4d88-4240-aae0-2a9a48562a24"
      },
      "id": "uIHw3QMRmBVa",
      "execution_count": null,
      "outputs": [
        {
          "output_type": "execute_result",
          "data": {
            "text/plain": [
              "array([0])"
            ]
          },
          "metadata": {},
          "execution_count": 46
        }
      ]
    },
    {
      "cell_type": "code",
      "source": [],
      "metadata": {
        "id": "H78Gmx5duyTM"
      },
      "id": "H78Gmx5duyTM",
      "execution_count": null,
      "outputs": []
    }
  ],
  "metadata": {
    "colab": {
      "provenance": []
    },
    "kernelspec": {
      "display_name": "Python 3 (ipykernel)",
      "language": "python",
      "name": "python3"
    },
    "language_info": {
      "codemirror_mode": {
        "name": "ipython",
        "version": 3
      },
      "file_extension": ".py",
      "mimetype": "text/x-python",
      "name": "python",
      "nbconvert_exporter": "python",
      "pygments_lexer": "ipython3",
      "version": "3.10.8"
    }
  },
  "nbformat": 4,
  "nbformat_minor": 5
}